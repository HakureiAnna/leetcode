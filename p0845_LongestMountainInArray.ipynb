{
 "metadata": {
  "language_info": {
   "codemirror_mode": {
    "name": "ipython",
    "version": 3
   },
   "file_extension": ".py",
   "mimetype": "text/x-python",
   "name": "python",
   "nbconvert_exporter": "python",
   "pygments_lexer": "ipython3",
   "version": "3.8.6-candidate"
  },
  "orig_nbformat": 2,
  "kernelspec": {
   "name": "python3",
   "display_name": "Python 3.8.6 64-bit",
   "metadata": {
    "interpreter": {
     "hash": "2a80cafe02b4a68da2dc5344b52b71726d103bf40eaffc1fd8fc8f246e1d994a"
    }
   }
  }
 },
 "nbformat": 4,
 "nbformat_minor": 2,
 "cells": [
  {
   "cell_type": "code",
   "execution_count": 1,
   "metadata": {},
   "outputs": [],
   "source": [
    "class Solution:\n",
    "    def longestMountain(self, A):\n",
    "        maxLen = 0\n",
    "        state = -1\n",
    "        length = 0\n",
    "        for i in range(1, len(A)):\n",
    "            if A[i] == A[i-1]:\n",
    "                if state == 1:\n",
    "                    length += 1\n",
    "                    maxLen = max(length, maxLen)\n",
    "                state = -1\n",
    "                length = 0\n",
    "            if state == -1:\n",
    "                if A[i] > A[i-1]:\n",
    "                    state= 0\n",
    "                    length = 1\n",
    "            elif state == 0:\n",
    "                if A[i] < A[i-1]:\n",
    "                    state = 1\n",
    "                    length += 1\n",
    "                elif A[i] > A[i-1]:\n",
    "                    length += 1\n",
    "            elif state == 1:\n",
    "                if A[i] > A[i-1]:\n",
    "                    state= 0\n",
    "                    length += 1\n",
    "                    if length > maxLen:\n",
    "                        maxLen = length\n",
    "                    length = 1\n",
    "                if A[i] < A[i-1]:\n",
    "                    length += 1\n",
    "        if state < 1:\n",
    "            return maxLen\n",
    "        return max(length + 1, maxLen)\n",
    "solution = Solution()"
   ]
  },
  {
   "cell_type": "code",
   "execution_count": 2,
   "metadata": {},
   "outputs": [
    {
     "output_type": "execute_result",
     "data": {
      "text/plain": [
       "5"
      ]
     },
     "metadata": {},
     "execution_count": 2
    }
   ],
   "source": [
    "A = [2, 1, 4, 7, 3, 2, 5]\n",
    "solution.longestMountain(A)"
   ]
  },
  {
   "cell_type": "code",
   "execution_count": 3,
   "metadata": {},
   "outputs": [
    {
     "output_type": "execute_result",
     "data": {
      "text/plain": [
       "0"
      ]
     },
     "metadata": {},
     "execution_count": 3
    }
   ],
   "source": [
    "A = [2, 2, 2]\n",
    "solution.longestMountain(A)"
   ]
  }
 ]
}