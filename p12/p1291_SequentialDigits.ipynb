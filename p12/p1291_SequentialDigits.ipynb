{
 "metadata": {
  "language_info": {
   "codemirror_mode": {
    "name": "ipython",
    "version": 3
   },
   "file_extension": ".py",
   "mimetype": "text/x-python",
   "name": "python",
   "nbconvert_exporter": "python",
   "pygments_lexer": "ipython3",
   "version": "3.8.6-candidate"
  },
  "orig_nbformat": 2,
  "kernelspec": {
   "name": "python_defaultSpec_1600841952224",
   "display_name": "Python 3.8.6 64-bit"
  }
 },
 "nbformat": 4,
 "nbformat_minor": 2,
 "cells": [
  {
   "cell_type": "code",
   "execution_count": 2,
   "metadata": {},
   "outputs": [],
   "source": [
    "class Solution:\n",
    "    def sequentialDigits(self, low, high):\n",
    "        limit = 100\n",
    "        lowD = 2\n",
    "        maxLim = 10000000000\n",
    "        while limit <= low and limit <= maxLim:\n",
    "            limit *= 10\n",
    "            lowD += 1\n",
    "        highD = lowD\n",
    "        while limit <= high and limit <= maxLim:\n",
    "            limit *= 10\n",
    "            highD += 1\n",
    "        result = []\n",
    "        cont = True\n",
    "        for i in range(lowD, highD+1):\n",
    "            maxInit = 10 - i\n",
    "            current = 1\n",
    "            step = 1\n",
    "            digits = 1\n",
    "            while digits < i:\n",
    "                current *= 10\n",
    "                digits += 1\n",
    "                if digits > 9:\n",
    "                    break\n",
    "                current += digits\n",
    "                step *= 10\n",
    "                step += 1\n",
    "            jStart = 2\n",
    "            while current < low:\n",
    "                current += step\n",
    "                jStart += 1\n",
    "            if current // pow(10, digits-1) > maxInit:\n",
    "                continue\n",
    "            if current > high:\n",
    "                break\n",
    "            result.append(current)\n",
    "            for j in range(jStart, maxInit+1):\n",
    "                current += step\n",
    "                if current > high:\n",
    "                    cont = False\n",
    "                    break\n",
    "                result.append(current)\n",
    "            if cont == False:\n",
    "                break\n",
    "        return result\n",
    "\n",
    "solution = Solution()"
   ]
  },
  {
   "cell_type": "code",
   "execution_count": 3,
   "metadata": {},
   "outputs": [
    {
     "output_type": "execute_result",
     "data": {
      "text/plain": "[123, 234]"
     },
     "metadata": {},
     "execution_count": 3
    }
   ],
   "source": [
    "low = 100\n",
    "high = 300\n",
    "solution.sequentialDigits(low, high)"
   ]
  },
  {
   "cell_type": "code",
   "execution_count": 5,
   "metadata": {},
   "outputs": [
    {
     "output_type": "execute_result",
     "data": {
      "text/plain": "[1234, 2345, 3456, 4567, 5678, 6789, 12345]"
     },
     "metadata": {},
     "execution_count": 5
    }
   ],
   "source": [
    "low = 1000\n",
    "high = 13000\n",
    "solution.sequentialDigits(low, high)"
   ]
  }
 ]
}