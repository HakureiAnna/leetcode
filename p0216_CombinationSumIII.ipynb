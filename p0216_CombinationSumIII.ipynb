{
 "metadata": {
  "language_info": {
   "codemirror_mode": {
    "name": "ipython",
    "version": 3
   },
   "file_extension": ".py",
   "mimetype": "text/x-python",
   "name": "python",
   "nbconvert_exporter": "python",
   "pygments_lexer": "ipython3",
   "version": "3.8.6-candidate"
  },
  "orig_nbformat": 2,
  "kernelspec": {
   "name": "python_defaultSpec_1599922439462",
   "display_name": "Python 3"
  }
 },
 "nbformat": 4,
 "nbformat_minor": 2,
 "cells": [
  {
   "cell_type": "code",
   "execution_count": 19,
   "metadata": {},
   "outputs": [],
   "source": [
    "class Solution:\n",
    "    def combinationSum3(self, k, n):\n",
    "        self.res = []\n",
    "        self.iterate(k, n, [], 0, 0)\n",
    "        return self.res\n",
    "\n",
    "    def iterate(self, k, n, lst, sum, prev):\n",
    "        if len(lst) == k:\n",
    "            if sum == n:\n",
    "                self.res.append(lst)\n",
    "            return\n",
    "        for i in range(prev+1, 10):\n",
    "            newLst = lst.copy()\n",
    "            if sum + i > n:\n",
    "                break\n",
    "            newLst.append(i)\n",
    "            if len(newLst) <= k:\n",
    "                self.iterate(k, n, newLst, sum + i, i)\n",
    "\n",
    "solution = Solution()        "
   ]
  },
  {
   "cell_type": "code",
   "execution_count": 21,
   "metadata": {
    "tags": []
   },
   "outputs": [
    {
     "output_type": "execute_result",
     "data": {
      "text/plain": "[[1, 2, 4]]"
     },
     "metadata": {},
     "execution_count": 21
    }
   ],
   "source": [
    "k = 3\n",
    "n = 7\n",
    "solution.combinationSum3(k, n)"
   ]
  },
  {
   "cell_type": "code",
   "execution_count": 22,
   "metadata": {},
   "outputs": [
    {
     "output_type": "execute_result",
     "data": {
      "text/plain": "[[1, 2, 6], [1, 3, 5], [2, 3, 4]]"
     },
     "metadata": {},
     "execution_count": 22
    }
   ],
   "source": [
    "k = 3\n",
    "n = 9\n",
    "solution.combinationSum3(k, n)"
   ]
  }
 ]
}