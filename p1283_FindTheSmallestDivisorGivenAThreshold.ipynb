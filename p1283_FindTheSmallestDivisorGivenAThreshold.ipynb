{
 "metadata": {
  "language_info": {
   "codemirror_mode": {
    "name": "ipython",
    "version": 3
   },
   "file_extension": ".py",
   "mimetype": "text/x-python",
   "name": "python",
   "nbconvert_exporter": "python",
   "pygments_lexer": "ipython3",
   "version": "3.8.6-candidate"
  },
  "orig_nbformat": 2,
  "kernelspec": {
   "name": "Python 3.8.6 64-bit",
   "display_name": "Python 3.8.6 64-bit",
   "metadata": {
    "interpreter": {
     "hash": "2a80cafe02b4a68da2dc5344b52b71726d103bf40eaffc1fd8fc8f246e1d994a"
    }
   }
  }
 },
 "nbformat": 4,
 "nbformat_minor": 2,
 "cells": [
  {
   "cell_type": "code",
   "execution_count": 5,
   "metadata": {},
   "outputs": [],
   "source": [
    "from math import ceil\n",
    "\n",
    "class Solution:\n",
    "    def smallestDivisor(self, nums, threshold):\n",
    "        low = 1\n",
    "        high = max(nums) + 1\n",
    "        ans = -1\n",
    "        while low <= high:\n",
    "            mid = low + (high-low)//2\n",
    "            currSum = 0\n",
    "            for num in nums:\n",
    "                currSum += ceil(num/mid)\n",
    "            if currSum <= threshold:\n",
    "                high = mid - 1\n",
    "                ans = mid\n",
    "            else:\n",
    "                low = mid + 1                \n",
    "        return ans\n",
    "solution = Solution()"
   ]
  },
  {
   "cell_type": "code",
   "execution_count": 6,
   "metadata": {},
   "outputs": [
    {
     "output_type": "execute_result",
     "data": {
      "text/plain": [
       "5"
      ]
     },
     "metadata": {},
     "execution_count": 6
    }
   ],
   "source": [
    "nums = [1, 2, 5, 9]\n",
    "threshold = 6\n",
    "solution.smallestDivisor(nums, threshold)"
   ]
  },
  {
   "cell_type": "code",
   "execution_count": 8,
   "metadata": {},
   "outputs": [
    {
     "output_type": "execute_result",
     "data": {
      "text/plain": [
       "3"
      ]
     },
     "metadata": {},
     "execution_count": 8
    }
   ],
   "source": [
    "nums = [2, 3, 5, 7, 11]\n",
    "threshold = 11\n",
    "solution.smallestDivisor(nums, threshold)"
   ]
  },
  {
   "cell_type": "code",
   "execution_count": 9,
   "metadata": {},
   "outputs": [
    {
     "output_type": "execute_result",
     "data": {
      "text/plain": [
       "4"
      ]
     },
     "metadata": {},
     "execution_count": 9
    }
   ],
   "source": [
    "nums = [19]\n",
    "threshold = 5\n",
    "solution.smallestDivisor(nums, threshold)"
   ]
  }
 ]
}