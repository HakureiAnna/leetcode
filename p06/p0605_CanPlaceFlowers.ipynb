{
 "cells": [
  {
   "cell_type": "code",
   "execution_count": 3,
   "metadata": {},
   "outputs": [],
   "source": [
    "class Solution:\n",
    "    def canPlaceFlowers(self, flowerbed, n):\n",
    "        N = len(flowerbed)\n",
    "        if N == 1:\n",
    "            return int(flowerbed[0] == 0) >= n\n",
    "        evenCnt = int((flowerbed[-1] == 0 and flowerbed[-2] == 0) if N % 2 == 0 else 0)\n",
    "        oddCnt = int(flowerbed[0] == 0 and flowerbed[1] == 0) + \\\n",
    "            int((flowerbed[-1] == 0 and flowerbed[-2] == 0) if N % 2 == 1 else 0)\n",
    "        for i in range(1, N-1):\n",
    "            curr = int(flowerbed[i-1] == 0 and \\\n",
    "                             flowerbed[i] == 0 and \\\n",
    "                             flowerbed[i + 1] == 0)\n",
    "            print(i, curr)\n",
    "            if i % 2 == 0:\n",
    "                oddCnt += curr\n",
    "            else:\n",
    "                evenCnt += curr\n",
    "        return max(evenCnt, oddCnt) >= n\n",
    "solution = Solution()"
   ]
  },
  {
   "cell_type": "code",
   "execution_count": 4,
   "metadata": {},
   "outputs": [
    {
     "data": {
      "text/plain": [
       "True"
      ]
     },
     "execution_count": 4,
     "metadata": {},
     "output_type": "execute_result"
    }
   ],
   "source": [
    "flowerbed = [1,0,0,0,1]\n",
    "n = 1\n",
    "solution.canPlaceFlowers(flowerbed, n)"
   ]
  },
  {
   "cell_type": "code",
   "execution_count": 5,
   "metadata": {},
   "outputs": [
    {
     "data": {
      "text/plain": [
       "False"
      ]
     },
     "execution_count": 5,
     "metadata": {},
     "output_type": "execute_result"
    }
   ],
   "source": [
    "flowerbed = [1,0,0,0,1]\n",
    "n = 2\n",
    "solution.canPlaceFlowers(flowerbed, n)"
   ]
  }
 ],
 "metadata": {
  "kernelspec": {
   "display_name": "Python 3",
   "language": "python",
   "name": "python3"
  },
  "language_info": {
   "codemirror_mode": {
    "name": "ipython",
    "version": 3
   },
   "file_extension": ".py",
   "mimetype": "text/x-python",
   "name": "python",
   "nbconvert_exporter": "python",
   "pygments_lexer": "ipython3",
   "version": "3.8.6rc1"
  }
 },
 "nbformat": 4,
 "nbformat_minor": 4
}
