{
 "metadata": {
  "language_info": {
   "codemirror_mode": {
    "name": "ipython",
    "version": 3
   },
   "file_extension": ".py",
   "mimetype": "text/x-python",
   "name": "python",
   "nbconvert_exporter": "python",
   "pygments_lexer": "ipython3",
   "version": "3.8.6-candidate"
  },
  "orig_nbformat": 2,
  "kernelspec": {
   "name": "Python 3.8.6 64-bit",
   "display_name": "Python 3.8.6 64-bit",
   "metadata": {
    "interpreter": {
     "hash": "2a80cafe02b4a68da2dc5344b52b71726d103bf40eaffc1fd8fc8f246e1d994a"
    }
   }
  }
 },
 "nbformat": 4,
 "nbformat_minor": 2,
 "cells": [
  {
   "cell_type": "code",
   "execution_count": 26,
   "metadata": {},
   "outputs": [],
   "source": [
    "class Solution:\n",
    "    def __init__(self):\n",
    "        self.validated = {}\n",
    "\n",
    "    def wordBreak(self, s, wordDict):\n",
    "        if s in wordDict:\n",
    "            return True\n",
    "        if s in self.validated:\n",
    "            return self.validated[s]\n",
    "\n",
    "        for i in range(1, len(s)):\n",
    "            left = s[0:i]\n",
    "            if left in wordDict and self.wordBreak(s[i:], wordDict):\n",
    "                self.validated[s] = True\n",
    "                return True                \n",
    "        self.validated[s] = False\n",
    "        return False\n",
    "\n",
    "solution = Solution()"
   ]
  },
  {
   "cell_type": "code",
   "execution_count": 19,
   "metadata": {},
   "outputs": [
    {
     "output_type": "execute_result",
     "data": {
      "text/plain": "True"
     },
     "metadata": {},
     "execution_count": 19
    }
   ],
   "source": [
    "s = 'leetcode'\n",
    "wordDict = ['leet', 'code']\n",
    "solution.wordBreak(s, wordDict)"
   ]
  },
  {
   "cell_type": "code",
   "execution_count": 25,
   "metadata": {},
   "outputs": [
    {
     "output_type": "execute_result",
     "data": {
      "text/plain": "True"
     },
     "metadata": {},
     "execution_count": 25
    }
   ],
   "source": [
    "s = 'applepenapple'\n",
    "wordDict = ['apple', 'pen']\n",
    "solution.wordBreak(s, wordDict)"
   ]
  },
  {
   "cell_type": "code",
   "execution_count": 28,
   "metadata": {},
   "outputs": [
    {
     "output_type": "execute_result",
     "data": {
      "text/plain": "{'og': False, 'sandog': False, 'andog': False, 'catsandog': False}"
     },
     "metadata": {},
     "execution_count": 28
    }
   ],
   "source": [
    "s = 'catsandog'\n",
    "wordDict = ['cats', 'dog', 'sand', 'and', 'cat']\n",
    "solution.wordBreak(s, wordDict)\n",
    "solution.validated"
   ]
  },
  {
   "cell_type": "code",
   "execution_count": 31,
   "metadata": {
    "tags": []
   },
   "outputs": [
    {
     "output_type": "stream",
     "name": "stdout",
     "text": "41\n"
    }
   ],
   "source": [
    "for i in range(1000000):\n",
    "    n = i * i + i +41\n",
    "    j = 2\n",
    "    if n % 2 == 0:\n",
    "        print(i)\n",
    "        break\n",
    "    cont = True\n",
    "    for j in range(3,int(pow(i, 0.5)),2):\n",
    "        if n % j == 0:\n",
    "            print(j)\n",
    "            cont = False\n",
    "            break\n",
    "    if not cont:\n",
    "        break"
   ]
  }
 ]
}