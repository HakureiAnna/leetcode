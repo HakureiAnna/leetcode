{
 "metadata": {
  "language_info": {
   "codemirror_mode": {
    "name": "ipython",
    "version": 3
   },
   "file_extension": ".py",
   "mimetype": "text/x-python",
   "name": "python",
   "nbconvert_exporter": "python",
   "pygments_lexer": "ipython3",
   "version": "3.8.6-candidate"
  },
  "orig_nbformat": 2,
  "kernelspec": {
   "name": "Python 3.8.6 64-bit",
   "display_name": "Python 3.8.6 64-bit",
   "metadata": {
    "interpreter": {
     "hash": "2a80cafe02b4a68da2dc5344b52b71726d103bf40eaffc1fd8fc8f246e1d994a"
    }
   }
  }
 },
 "nbformat": 4,
 "nbformat_minor": 2,
 "cells": [
  {
   "cell_type": "code",
   "execution_count": 2,
   "metadata": {},
   "outputs": [],
   "source": [
    "class Solution:\n",
    "    def validSquare(self, p1, p2, p3, p4):\n",
    "        return self.validate(p1, p2, p3, p4) or self.validate(p1, p3, p2, p4) or self.validate(p1, p4, p2, p3)\n",
    "    \n",
    "    def validate(self, diagA1, diagA2, diagB1, diagB2):\n",
    "        # check if diagonals have same mid point\n",
    "        # simplifying midpoint to left + right, bottom + right (removing the divide by 2)\n",
    "        if diagA1[0] + diagA2[0] != diagB1[0] + diagB2[0] or \\\n",
    "            diagA1[1] + diagA2[1] != diagB1[1] + diagB2[1]:\n",
    "                return False\n",
    "        # check that diagonal is of same length and adjacent sides are of same length\n",
    "        if (diagA1[0] - diagA2[0]) ** 2 != (diagB1[1] - diagB2[1])**2 or \\\n",
    "            (diagA1[0] - diagB1[0]) ** 2 != (diagA2[1] - diagB1[1]) ** 2:\n",
    "                return False\n",
    "        # make sure length is not 0\n",
    "        if diagA1 == diagA2:\n",
    "            return False\n",
    "        return True\n",
    "\n",
    "solution = Solution()"
   ]
  },
  {
   "cell_type": "code",
   "execution_count": 3,
   "metadata": {},
   "outputs": [
    {
     "output_type": "execute_result",
     "data": {
      "text/plain": [
       "True"
      ]
     },
     "metadata": {},
     "execution_count": 3
    }
   ],
   "source": [
    "p1 = [0, 0]\n",
    "p2 = [1, 1]\n",
    "p3 = [1, 0]\n",
    "p4 = [0, 1]\n",
    "solution.validate(p1, p2, p3, p4)"
   ]
  }
 ]
}