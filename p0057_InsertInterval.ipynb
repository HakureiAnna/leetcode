{
 "metadata": {
  "language_info": {
   "codemirror_mode": {
    "name": "ipython",
    "version": 3
   },
   "file_extension": ".py",
   "mimetype": "text/x-python",
   "name": "python",
   "nbconvert_exporter": "python",
   "pygments_lexer": "ipython3",
   "version": "3.8.6-candidate"
  },
  "orig_nbformat": 2,
  "kernelspec": {
   "name": "python_defaultSpec_1599992881990",
   "display_name": "Python 3"
  }
 },
 "nbformat": 4,
 "nbformat_minor": 2,
 "cells": [
  {
   "cell_type": "code",
   "execution_count": 1,
   "metadata": {},
   "outputs": [],
   "source": [
    "class Solution:\n",
    "    def insert(self, intervals, newInterval):\n",
    "        retVal = []\n",
    "        inserted = False\n",
    "        for interval in intervals:\n",
    "            if interval[1] < newInterval[0]:\n",
    "                retVal.append(interval)\n",
    "            elif interval[0] > newInterval[1] and inserted:\n",
    "                retVal.append(interval)\n",
    "            else:\n",
    "                if interval[0] < newInterval[0]:\n",
    "                    newInterval[0] = interval[0]\n",
    "                if interval[1] > newInterval[1]:\n",
    "                    newInterval[1] = interval[1]\n",
    "                if not inserted:\n",
    "                    retVal.append(newInterval)\n",
    "                    inserted = True\n",
    "        if not inserted:\n",
    "            retVal.append(newInterval)\n",
    "        return retVal\n",
    "solution = Solution()"
   ]
  },
  {
   "cell_type": "code",
   "execution_count": 3,
   "metadata": {},
   "outputs": [
    {
     "output_type": "execute_result",
     "data": {
      "text/plain": "[[1, 5], [6, 9]]"
     },
     "metadata": {},
     "execution_count": 3
    }
   ],
   "source": [
    "intervals = [[1,3],[6,9]]\n",
    "newInterval = [2,5]\n",
    "solution.insert(intervals, newInterval)"
   ]
  },
  {
   "cell_type": "code",
   "execution_count": 4,
   "metadata": {},
   "outputs": [
    {
     "output_type": "execute_result",
     "data": {
      "text/plain": "[[1, 2], [3, 10], [12, 16]]"
     },
     "metadata": {},
     "execution_count": 4
    }
   ],
   "source": [
    "intervals = [[1,2],[3,5],[6,7],[8,10],[12,16]]\n",
    "newInterval = [4,8]\n",
    "solution.insert(intervals, newInterval)"
   ]
  }
 ]
}