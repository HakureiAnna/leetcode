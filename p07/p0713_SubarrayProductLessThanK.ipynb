{
 "metadata": {
  "language_info": {
   "codemirror_mode": {
    "name": "ipython",
    "version": 3
   },
   "file_extension": ".py",
   "mimetype": "text/x-python",
   "name": "python",
   "nbconvert_exporter": "python",
   "pygments_lexer": "ipython3",
   "version": "3.8.6-candidate"
  },
  "orig_nbformat": 2,
  "kernelspec": {
   "name": "Python 3.8.6 64-bit",
   "display_name": "Python 3.8.6 64-bit",
   "metadata": {
    "interpreter": {
     "hash": "2a80cafe02b4a68da2dc5344b52b71726d103bf40eaffc1fd8fc8f246e1d994a"
    }
   }
  }
 },
 "nbformat": 4,
 "nbformat_minor": 2,
 "cells": [
  {
   "cell_type": "code",
   "execution_count": 20,
   "metadata": {},
   "outputs": [],
   "source": [
    "class Solution:\n",
    "    def numSubarrayProductLessThanK(self, nums, k):\n",
    "        if k <= 1:\n",
    "            return 0\n",
    "        count = 0\n",
    "        product = 1\n",
    "        left = 0\n",
    "        right = 0\n",
    "        while right < len(nums):\n",
    "            product *= nums[right]\n",
    "            while product >= k:\n",
    "                product //= nums[left]\n",
    "                left += 1\n",
    "            count += right - left + 1\n",
    "            right += 1\n",
    "        return count\n",
    "\n",
    "solution = Solution()"
   ]
  },
  {
   "cell_type": "code",
   "execution_count": 21,
   "metadata": {
    "tags": []
   },
   "outputs": [
    {
     "output_type": "execute_result",
     "data": {
      "text/plain": "8"
     },
     "metadata": {},
     "execution_count": 21
    }
   ],
   "source": [
    "nums = [10, 5, 2, 6] \n",
    "k = 100\n",
    "solution.numSubarrayProductLessThanK(nums, k)"
   ]
  }
 ]
}