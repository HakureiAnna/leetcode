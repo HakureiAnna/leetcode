{
 "metadata": {
  "language_info": {
   "codemirror_mode": {
    "name": "ipython",
    "version": 3
   },
   "file_extension": ".py",
   "mimetype": "text/x-python",
   "name": "python",
   "nbconvert_exporter": "python",
   "pygments_lexer": "ipython3",
   "version": "3.8.6-candidate"
  },
  "orig_nbformat": 2,
  "kernelspec": {
   "name": "Python 3.8.6 64-bit",
   "display_name": "Python 3.8.6 64-bit",
   "metadata": {
    "interpreter": {
     "hash": "2a80cafe02b4a68da2dc5344b52b71726d103bf40eaffc1fd8fc8f246e1d994a"
    }
   }
  }
 },
 "nbformat": 4,
 "nbformat_minor": 2,
 "cells": [
  {
   "cell_type": "code",
   "execution_count": 1,
   "metadata": {},
   "outputs": [],
   "source": [
    "class Solution:\n",
    "    def champagneTower(self, poured, query_row, query_glass):\n",
    "        tower = []\n",
    "        for i in range(1,101):\n",
    "            tower.append([0] * i)\n",
    "            \n",
    "        tower[0][0] = poured\n",
    "        for i in range(1, query_row+1):\n",
    "            j = 1\n",
    "            while j <= i:\n",
    "                if tower[i-1][j-1] > 1:\n",
    "                    overspill = (tower[i-1][j-1]-1)\n",
    "                    tower[i-1][j-1] -= overspill \n",
    "                    overspill /= 2\n",
    "                    tower[i][j-1] += overspill\n",
    "                    tower[i][j] += overspill\n",
    "                j += 1\n",
    "        if tower[query_row][query_glass] > 1:\n",
    "            tower[query_row][query_glass] = 1\n",
    "        return tower[query_row][query_glass]\n",
    "\n",
    "solution = Solution()"
   ]
  },
  {
   "cell_type": "code",
   "execution_count": 2,
   "metadata": {},
   "outputs": [
    {
     "output_type": "execute_result",
     "data": {
      "text/plain": [
       "0"
      ]
     },
     "metadata": {},
     "execution_count": 2
    }
   ],
   "source": [
    "poured = 1\n",
    "query_row = 1\n",
    "query_glass = 1\n",
    "solution.champagneTower(poured, query_row, query_glass)"
   ]
  },
  {
   "cell_type": "code",
   "execution_count": 4,
   "metadata": {},
   "outputs": [
    {
     "output_type": "execute_result",
     "data": {
      "text/plain": [
       "0.5"
      ]
     },
     "metadata": {},
     "execution_count": 4
    }
   ],
   "source": [
    "poured = 2\n",
    "query_row = 1\n",
    "query_glass = 1\n",
    "solution.champagneTower(poured, query_row, query_glass)"
   ]
  },
  {
   "cell_type": "code",
   "execution_count": 5,
   "metadata": {},
   "outputs": [
    {
     "output_type": "execute_result",
     "data": {
      "text/plain": [
       "1"
      ]
     },
     "metadata": {},
     "execution_count": 5
    }
   ],
   "source": [
    "poured = 100000009\n",
    "query_row = 33\n",
    "query_glass = 17\n",
    "solution.champagneTower(poured, query_row, query_glass)"
   ]
  }
 ]
}