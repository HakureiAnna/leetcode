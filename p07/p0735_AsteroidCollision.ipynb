{
 "metadata": {
  "language_info": {
   "codemirror_mode": {
    "name": "ipython",
    "version": 3
   },
   "file_extension": ".py",
   "mimetype": "text/x-python",
   "name": "python",
   "nbconvert_exporter": "python",
   "pygments_lexer": "ipython3",
   "version": "3.8.6-candidate"
  },
  "orig_nbformat": 2,
  "kernelspec": {
   "name": "Python 3.8.6 64-bit",
   "display_name": "Python 3.8.6 64-bit",
   "metadata": {
    "interpreter": {
     "hash": "2a80cafe02b4a68da2dc5344b52b71726d103bf40eaffc1fd8fc8f246e1d994a"
    }
   }
  }
 },
 "nbformat": 4,
 "nbformat_minor": 2,
 "cells": [
  {
   "cell_type": "code",
   "execution_count": 3,
   "metadata": {},
   "outputs": [],
   "source": [
    "from collections import deque\n",
    "\n",
    "class Solution:\n",
    "    def asteroidCollision(self, asteroids):\n",
    "        ast = deque()\n",
    "        i = 0\n",
    "        n = len(asteroids)\n",
    "        while i < n:\n",
    "            asteroid = asteroids[i]\n",
    "            if asteroid > 0 or len(ast) == 0 or ast[-1] < 0:\n",
    "                ast.append(asteroid)\n",
    "            elif ast[-1] == abs(asteroid):\n",
    "                ast.pop()\n",
    "            elif ast[-1] < abs(asteroid):\n",
    "                ast.pop()\n",
    "                i -= 1        \n",
    "            i += 1\n",
    "        return list(ast)\n",
    "\n",
    "solution = Solution()"
   ]
  },
  {
   "cell_type": "code",
   "execution_count": 4,
   "metadata": {},
   "outputs": [
    {
     "output_type": "execute_result",
     "data": {
      "text/plain": [
       "[5, 10]"
      ]
     },
     "metadata": {},
     "execution_count": 4
    }
   ],
   "source": [
    "asteroids = [5, 10, -5]\n",
    "solution.asteroidCollision(asteroids)"
   ]
  },
  {
   "cell_type": "code",
   "execution_count": 5,
   "metadata": {},
   "outputs": [
    {
     "output_type": "execute_result",
     "data": {
      "text/plain": [
       "[]"
      ]
     },
     "metadata": {},
     "execution_count": 5
    }
   ],
   "source": [
    "asteroids = [8, -8]\n",
    "solution.asteroidCollision(asteroids)"
   ]
  },
  {
   "cell_type": "code",
   "execution_count": 7,
   "metadata": {},
   "outputs": [
    {
     "output_type": "execute_result",
     "data": {
      "text/plain": [
       "[10]"
      ]
     },
     "metadata": {},
     "execution_count": 7
    }
   ],
   "source": [
    "asteroids = [10, 2, -5]\n",
    "solution.asteroidCollision(asteroids)"
   ]
  },
  {
   "cell_type": "code",
   "execution_count": 8,
   "metadata": {},
   "outputs": [
    {
     "output_type": "execute_result",
     "data": {
      "text/plain": [
       "[-2, -1, 1, 2]"
      ]
     },
     "metadata": {},
     "execution_count": 8
    }
   ],
   "source": [
    "asteroids = [-2,-1,1,2]\n",
    "solution.asteroidCollision(asteroids)"
   ]
  }
 ]
}