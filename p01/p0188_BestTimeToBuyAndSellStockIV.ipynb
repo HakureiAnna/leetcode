{
 "metadata": {
  "language_info": {
   "codemirror_mode": {
    "name": "ipython",
    "version": 3
   },
   "file_extension": ".py",
   "mimetype": "text/x-python",
   "name": "python",
   "nbconvert_exporter": "python",
   "pygments_lexer": "ipython3",
   "version": "3.8.6-candidate"
  },
  "orig_nbformat": 2,
  "kernelspec": {
   "name": "Python 3.8.6 64-bit",
   "display_name": "Python 3.8.6 64-bit",
   "metadata": {
    "interpreter": {
     "hash": "2a80cafe02b4a68da2dc5344b52b71726d103bf40eaffc1fd8fc8f246e1d994a"
    }
   }
  }
 },
 "nbformat": 4,
 "nbformat_minor": 2,
 "cells": [
  {
   "cell_type": "code",
   "execution_count": 23,
   "metadata": {},
   "outputs": [],
   "source": [
    "class Solution:\n",
    "    def maxProfit(self, k, prices):\n",
    "        n = len(prices)\n",
    "        if n < 2:\n",
    "            return 0\n",
    "        if k >= n//2:\n",
    "            return sum([curr-prev for curr, prev in zip(prices[1:], prices[:-1]) if curr > prev])\n",
    "\n",
    "        profits = [0] * n\n",
    "        for i in range(k):\n",
    "            prevProfit = 0\n",
    "            for j in range(1, n):\n",
    "                profit = prices[j] - prices[j-1]\n",
    "                prevProfit = max(prevProfit + profit, profits[j])\n",
    "                profits[j] = max(profits[j-1], prevProfit)\n",
    "        return profits[-1]\n",
    "\n",
    "solution = Solution()"
   ]
  },
  {
   "cell_type": "code",
   "execution_count": 13,
   "metadata": {},
   "outputs": [
    {
     "output_type": "execute_result",
     "data": {
      "text/plain": [
       "2"
      ]
     },
     "metadata": {},
     "execution_count": 13
    }
   ],
   "source": [
    "k = 2\n",
    "prices = [2, 4, 1]\n",
    "solution.maxProfit(k, prices)"
   ]
  },
  {
   "cell_type": "code",
   "execution_count": 24,
   "metadata": {},
   "outputs": [
    {
     "output_type": "execute_result",
     "data": {
      "text/plain": [
       "7"
      ]
     },
     "metadata": {},
     "execution_count": 24
    }
   ],
   "source": [
    "k = 2\n",
    "prices = [3, 2, 6, 5, 0, 3]\n",
    "solution.maxProfit(k, prices)"
   ]
  }
 ]
}