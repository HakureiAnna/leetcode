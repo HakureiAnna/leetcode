{
 "cells": [
  {
   "cell_type": "code",
   "execution_count": 1,
   "metadata": {},
   "outputs": [],
   "source": [
    "\"\"\"\n",
    "# Definition for a Node.\n",
    "class Node:\n",
    "    def __init__(self, val: int = 0, left: 'Node' = None, right: 'Node' = None, next: 'Node' = None):\n",
    "        self.val = val\n",
    "        self.left = left\n",
    "        self.right = right\n",
    "        self.next = next\n",
    "\"\"\"\n",
    "\n",
    "class Solution:\n",
    "    def connect(self, root):\n",
    "        depth = self.maxDepth(root)\n",
    "        self.nodes = [None] * depth\n",
    "        self.traverse(root, 0)\n",
    "        return root\n",
    "        \n",
    "    def traverse(self, node, level):\n",
    "        if node is None:\n",
    "            return\n",
    "        if self.nodes[level] is None:\n",
    "            self.nodes[level] = node\n",
    "        else:\n",
    "            self.nodes[level].next = node\n",
    "            self.nodes[level] = node\n",
    "        self.traverse(node.left, level+1)\n",
    "        self.traverse(node.right, level+1)\n",
    "    \n",
    "    def maxDepth(self, node):\n",
    "        if node is None:\n",
    "            return 0\n",
    "        return 1 + max(self.maxDepth(node.left), self.maxDepth(node.right))\n",
    "    \n",
    "solution = Solution()"
   ]
  },
  {
   "cell_type": "code",
   "execution_count": null,
   "metadata": {},
   "outputs": [],
   "source": [
    "root = [1,2,3,4,5,None,7]\n",
    "solution.connect(root)"
   ]
  }
 ],
 "metadata": {
  "kernelspec": {
   "display_name": "Python 3",
   "language": "python",
   "name": "python3"
  },
  "language_info": {
   "codemirror_mode": {
    "name": "ipython",
    "version": 3
   },
   "file_extension": ".py",
   "mimetype": "text/x-python",
   "name": "python",
   "nbconvert_exporter": "python",
   "pygments_lexer": "ipython3",
   "version": "3.8.6rc1"
  }
 },
 "nbformat": 4,
 "nbformat_minor": 4
}
