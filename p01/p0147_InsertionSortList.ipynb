{
 "metadata": {
  "language_info": {
   "codemirror_mode": {
    "name": "ipython",
    "version": 3
   },
   "file_extension": ".py",
   "mimetype": "text/x-python",
   "name": "python",
   "nbconvert_exporter": "python",
   "pygments_lexer": "ipython3",
   "version": "3.8.6-candidate"
  },
  "orig_nbformat": 2,
  "kernelspec": {
   "name": "Python 3.8.6 64-bit",
   "display_name": "Python 3.8.6 64-bit",
   "metadata": {
    "interpreter": {
     "hash": "2a80cafe02b4a68da2dc5344b52b71726d103bf40eaffc1fd8fc8f246e1d994a"
    }
   }
  }
 },
 "nbformat": 4,
 "nbformat_minor": 2,
 "cells": [
  {
   "cell_type": "code",
   "execution_count": 1,
   "metadata": {},
   "outputs": [],
   "source": [
    "# Definition for singly-linked list.\n",
    "# class ListNode:\n",
    "#     def __init__(self, val=0, next=None):\n",
    "#         self.val = val\n",
    "#         self.next = next\n",
    "class Solution:\n",
    "    def insertionSortList(self, head):\n",
    "        if head is None:\n",
    "            return head\n",
    "        \n",
    "        # start from the 2nd node\n",
    "        curr = head.next\n",
    "        prev = head\n",
    "        \n",
    "        while curr is not None:\n",
    "            a = head\n",
    "            b = head\n",
    "            while b.val < curr.val and b != curr:\n",
    "                a = b\n",
    "                b = b.next\n",
    "            if b != curr:\n",
    "                tmp = curr.next\n",
    "                if b == head:\n",
    "                    curr.next = head\n",
    "                    head = curr\n",
    "                else:\n",
    "                    a.next = curr\n",
    "                    curr.next = b\n",
    "                prev.next = tmp\n",
    "                curr = tmp\n",
    "            else:\n",
    "                prev = curr\n",
    "                curr = curr.next\n",
    "        \n",
    "        return head        \n",
    "\n",
    "solution = Solution()"
   ]
  },
  {
   "cell_type": "code",
   "execution_count": 2,
   "metadata": {},
   "outputs": [],
   "source": [
    "input = [4, 2, 1, 3]\n",
    "head = None\n",
    "solution.insertionSortList(head)"
   ]
  },
  {
   "cell_type": "code",
   "execution_count": 3,
   "metadata": {},
   "outputs": [],
   "source": [
    "input = [-1, 5, 3, 4, 0]\n",
    "head = None\n",
    "solution.insertionSortList(head)"
   ]
  }
 ]
}