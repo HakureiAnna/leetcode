{
 "cells": [
  {
   "cell_type": "code",
   "execution_count": 45,
   "metadata": {},
   "outputs": [],
   "source": [
    "# Definition for a Node.\n",
    "class Node:\n",
    "    def __init__(self, val = 0, neighbors = None):\n",
    "        self.val = val\n",
    "        self.neighbors = neighbors if neighbors is not None else []\n",
    "\n",
    "class Graph:\n",
    "    def __init__(self, neighborsLst):\n",
    "        if neighborsLst is None:\n",
    "            self.origin = None\n",
    "            return\n",
    "        if type(neighborsLst) == Node:\n",
    "            self.origin = neighborsLst\n",
    "            return\n",
    "        \n",
    "        self.origin = None\n",
    "        nodes = {}\n",
    "        for i in range(len(neighborsLst)):\n",
    "            nodes[i+1] = Node(i+1)\n",
    "        for i, neighbors in enumerate(neighborsLst):\n",
    "            for neighbor in neighbors:\n",
    "                nodes[i+1].neighbors.append(nodes[neighbor])\n",
    "        if len(neighborsLst) > 0:\n",
    "            self.origin = nodes[1]\n",
    "    \n",
    "    def visitAll(self):\n",
    "        if self.origin is None:\n",
    "            return\n",
    "        visited = {}\n",
    "        self.traverse(self.origin, visited)\n",
    "        for node in visited:\n",
    "            print('{}: {}'.format(visited[node].val, [neighbor.val for neighbor in visited[node].neighbors]))\n",
    "            \n",
    "    def traverse(self, node, visited):\n",
    "        visited[node.val] = node\n",
    "        for neighbor in node.neighbors:\n",
    "            if neighbor.val not in visited:\n",
    "                visited[neighbor.val] = neighbor\n",
    "                self.traverse(neighbor, visited)\n",
    "         \n",
    "class Solution:\n",
    "    def cloneGraph(self, node):\n",
    "        if node is None:\n",
    "            return node\n",
    "        visited = {}\n",
    "        return self.traverse(node, visited)\n",
    "        \n",
    "    def traverse(self, node, visited):\n",
    "        newNode = False\n",
    "        ourNode = Node(node.val)\n",
    "        #print('new node', node.val)\n",
    "        visited[node.val] = ourNode\n",
    "        \n",
    "        for neighbor in node.neighbors:\n",
    "            if neighbor.val in visited:\n",
    "                #print('visited', neighbor.val)\n",
    "                ourNode.neighbors.append(visited[neighbor.val])\n",
    "            else:\n",
    "                ourNode.neighbors.append(self.traverse(neighbor, visited))\n",
    "        return ourNode\n",
    "solution = Solution()"
   ]
  },
  {
   "cell_type": "code",
   "execution_count": 39,
   "metadata": {},
   "outputs": [
    {
     "name": "stdout",
     "output_type": "stream",
     "text": [
      "1: [2, 4]\n",
      "2: [1, 3]\n",
      "3: [2, 4]\n",
      "4: [1, 3]\n",
      "1: [2, 4]\n",
      "2: [1, 3]\n",
      "3: [2, 4]\n",
      "4: [1, 3]\n"
     ]
    }
   ],
   "source": [
    "adjList = [[2,4],[1,3],[2,4],[1,3]]\n",
    "graph = Graph(adjList)\n",
    "graph.visitAll()\n",
    "newGraph = Graph(solution.cloneGraph(graph.origin))\n",
    "newGraph.visitAll()"
   ]
  },
  {
   "cell_type": "code",
   "execution_count": 41,
   "metadata": {},
   "outputs": [
    {
     "name": "stdout",
     "output_type": "stream",
     "text": [
      "1: []\n",
      "1: []\n"
     ]
    }
   ],
   "source": [
    "adjList = [[]]\n",
    "graph = Graph(adjList)\n",
    "graph.visitAll()\n",
    "newGraph = Graph(solution.cloneGraph(graph.origin))\n",
    "newGraph.visitAll()"
   ]
  },
  {
   "cell_type": "code",
   "execution_count": 47,
   "metadata": {},
   "outputs": [],
   "source": [
    "adjList = []\n",
    "graph = Graph(adjList)\n",
    "graph.visitAll()\n",
    "newGraph = Graph(solution.cloneGraph(graph.origin))\n",
    "newGraph.visitAll()"
   ]
  },
  {
   "cell_type": "code",
   "execution_count": 48,
   "metadata": {},
   "outputs": [
    {
     "name": "stdout",
     "output_type": "stream",
     "text": [
      "1: [2]\n",
      "2: [1]\n",
      "1: [2]\n",
      "2: [1]\n"
     ]
    }
   ],
   "source": [
    "adjList = [[2],[1]]\n",
    "graph = Graph(adjList)\n",
    "graph.visitAll()\n",
    "newGraph = Graph(solution.cloneGraph(graph.origin))\n",
    "newGraph.visitAll()"
   ]
  }
 ],
 "metadata": {
  "kernelspec": {
   "display_name": "Python 3",
   "language": "python",
   "name": "python3"
  },
  "language_info": {
   "codemirror_mode": {
    "name": "ipython",
    "version": 3
   },
   "file_extension": ".py",
   "mimetype": "text/x-python",
   "name": "python",
   "nbconvert_exporter": "python",
   "pygments_lexer": "ipython3",
   "version": "3.8.6rc1"
  }
 },
 "nbformat": 4,
 "nbformat_minor": 4
}
