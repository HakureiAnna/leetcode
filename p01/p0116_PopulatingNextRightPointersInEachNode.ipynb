{
 "metadata": {
  "language_info": {
   "codemirror_mode": {
    "name": "ipython",
    "version": 3
   },
   "file_extension": ".py",
   "mimetype": "text/x-python",
   "name": "python",
   "nbconvert_exporter": "python",
   "pygments_lexer": "ipython3",
   "version": "3.8.6-candidate"
  },
  "orig_nbformat": 2,
  "kernelspec": {
   "name": "python3",
   "display_name": "Python 3.8.6 64-bit",
   "metadata": {
    "interpreter": {
     "hash": "2a80cafe02b4a68da2dc5344b52b71726d103bf40eaffc1fd8fc8f246e1d994a"
    }
   }
  }
 },
 "nbformat": 4,
 "nbformat_minor": 2,
 "cells": [
  {
   "cell_type": "code",
   "execution_count": 1,
   "metadata": {},
   "outputs": [],
   "source": [
    "\"\"\"\n",
    "# Definition for a Node.\n",
    "class Node:\n",
    "    def __init__(self, val: int = 0, left: 'Node' = None, right: 'Node' = None, next: 'Node' = None):\n",
    "        self.val = val\n",
    "        self.left = left\n",
    "        self.right = right\n",
    "        self.next = next\n",
    "\"\"\"\n",
    "\n",
    "class Solution:\n",
    "    def connect(self, root):\n",
    "        q = deque()\n",
    "        n = 1\n",
    "        prev = root\n",
    "        while prev is not None:\n",
    "            i = 1\n",
    "            q.append(prev.left)\n",
    "            q.append(prev.right)\n",
    "            while i < n:\n",
    "                curr = q.popleft()\n",
    "                q.append(curr.left)\n",
    "                q.append(curr.right)\n",
    "                prev.next = curr\n",
    "                prev = curr\n",
    "                i += 1\n",
    "            prev = q.popleft()\n",
    "            n *= 2\n",
    "        return root\n",
    "solution = Solution()"
   ]
  },
  {
   "cell_type": "code",
   "execution_count": null,
   "metadata": {},
   "outputs": [],
   "source": [
    "root = [1, 2, 3, 4, 5, 6, 7]\n",
    "solution.connect(root)"
   ]
  }
 ]
}