{
 "metadata": {
  "language_info": {
   "codemirror_mode": {
    "name": "ipython",
    "version": 3
   },
   "file_extension": ".py",
   "mimetype": "text/x-python",
   "name": "python",
   "nbconvert_exporter": "python",
   "pygments_lexer": "ipython3",
   "version": "3.8.6-candidate"
  },
  "orig_nbformat": 2,
  "kernelspec": {
   "name": "python_defaultSpec_1599808361383",
   "display_name": "Python 3"
  }
 },
 "nbformat": 4,
 "nbformat_minor": 2,
 "cells": [
  {
   "cell_type": "code",
   "execution_count": 3,
   "metadata": {},
   "outputs": [],
   "source": [
    "class Solution:\n",
    "    def maxProduct(self, nums):\n",
    "        result = nums[0]\n",
    "        minX = nums[0]\n",
    "        maxX = nums[0]\n",
    "        for i in range(1, len(nums)):\n",
    "            if nums[i] < 0:\n",
    "                minX, maxX = maxX, minX\n",
    "            maxX = max(maxX * nums[i], nums[i])\n",
    "            minX = min(minX * nums[i], nums[i])\n",
    "            result = max(maxX, result)\n",
    "        return result\n",
    "\n",
    "solution = Solution()"
   ]
  },
  {
   "cell_type": "code",
   "execution_count": 5,
   "metadata": {
    "tags": []
   },
   "outputs": [
    {
     "output_type": "stream",
     "name": "stdout",
     "text": "6\n"
    }
   ],
   "source": [
    "nums = [2, 3, -2, 4]\n",
    "print(solution.maxProduct(nums))"
   ]
  },
  {
   "cell_type": "code",
   "execution_count": 6,
   "metadata": {
    "tags": []
   },
   "outputs": [
    {
     "output_type": "stream",
     "name": "stdout",
     "text": "0\n"
    }
   ],
   "source": [
    "nums = [-2, 0, -1]\n",
    "print(solution.maxProduct(nums))"
   ]
  }
 ]
}