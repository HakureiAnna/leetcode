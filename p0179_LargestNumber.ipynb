{
 "metadata": {
  "language_info": {
   "codemirror_mode": {
    "name": "ipython",
    "version": 3
   },
   "file_extension": ".py",
   "mimetype": "text/x-python",
   "name": "python",
   "nbconvert_exporter": "python",
   "pygments_lexer": "ipython3",
   "version": "3.8.6-candidate"
  },
  "orig_nbformat": 2,
  "kernelspec": {
   "name": "Python 3.8.6 64-bit",
   "display_name": "Python 3.8.6 64-bit",
   "metadata": {
    "interpreter": {
     "hash": "2a80cafe02b4a68da2dc5344b52b71726d103bf40eaffc1fd8fc8f246e1d994a"
    }
   }
  }
 },
 "nbformat": 4,
 "nbformat_minor": 2,
 "cells": [
  {
   "cell_type": "code",
   "execution_count": 17,
   "metadata": {},
   "outputs": [],
   "source": [
    "from functools import cmp_to_key\n",
    "\n",
    "class Solution:\n",
    "    def compare(self, a, b):\n",
    "        ab = a + b\n",
    "        ba = b + a\n",
    "        return -1 if ab > ba else 1\n",
    "    def largestNumber(self, nums):\n",
    "        sNums = [str(n) for n in nums]\n",
    "        sNums = sorted(sNums, key=cmp_to_key(self.compare))\n",
    "        result = ''\n",
    "        for n in sNums:\n",
    "            result += n\n",
    "        i = 0\n",
    "        while i < len(result)-1:\n",
    "            if result[i] != '0':\n",
    "                break\n",
    "            i += 1\n",
    "        if len(result) > 1 and i == len(result) - 1:\n",
    "            return '0'\n",
    "        return result\n",
    "\n",
    "solution = Solution()"
   ]
  },
  {
   "cell_type": "code",
   "execution_count": 19,
   "metadata": {
    "tags": []
   },
   "outputs": [
    {
     "output_type": "execute_result",
     "data": {
      "text/plain": "'210'"
     },
     "metadata": {},
     "execution_count": 19
    }
   ],
   "source": [
    "nums = [10, 2]\n",
    "solution.largestNumber(nums)"
   ]
  },
  {
   "cell_type": "code",
   "execution_count": 20,
   "metadata": {},
   "outputs": [
    {
     "output_type": "execute_result",
     "data": {
      "text/plain": "'9534330'"
     },
     "metadata": {},
     "execution_count": 20
    }
   ],
   "source": [
    "nums = [3, 30, 34, 5, 9]\n",
    "solution.largestNumber(nums)"
   ]
  }
 ]
}