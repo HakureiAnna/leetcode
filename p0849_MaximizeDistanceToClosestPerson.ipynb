{
 "metadata": {
  "language_info": {
   "codemirror_mode": {
    "name": "ipython",
    "version": 3
   },
   "file_extension": ".py",
   "mimetype": "text/x-python",
   "name": "python",
   "nbconvert_exporter": "python",
   "pygments_lexer": "ipython3",
   "version": "3.8.6-candidate"
  },
  "orig_nbformat": 2,
  "kernelspec": {
   "name": "Python 3.8.6 64-bit",
   "display_name": "Python 3.8.6 64-bit",
   "metadata": {
    "interpreter": {
     "hash": "2a80cafe02b4a68da2dc5344b52b71726d103bf40eaffc1fd8fc8f246e1d994a"
    }
   }
  }
 },
 "nbformat": 4,
 "nbformat_minor": 2,
 "cells": [
  {
   "cell_type": "code",
   "execution_count": 1,
   "metadata": {},
   "outputs": [],
   "source": [
    "class Solution:\n",
    "    def maxDistToClosest(self, seats):\n",
    "        i = 0\n",
    "        n = len(seats)\n",
    "        while i<n and seats[i] == 0:\n",
    "            i+= 1\n",
    "        start = i\n",
    "        i = len(seats)-1\n",
    "        while i>=0 and seats[i] == 0:\n",
    "            i -= 1\n",
    "        end = i + 1\n",
    "        maxDist = max(start, n- i - 1)\n",
    "        curr = -1\n",
    "        for i in range(start, end):\n",
    "            if seats[i] == 0:\n",
    "                if curr == -1:\n",
    "                    curr = i\n",
    "            else:\n",
    "                if curr != -1:\n",
    "                    r = i - curr\n",
    "                    mid = r//2\n",
    "                    m = start + mid\n",
    "                    dist = min(m-start, end-m)\n",
    "                    maxDist = max(maxDist, dist)            \n",
    "                    curr = -1\n",
    "        return maxDist\n",
    "solution = Solution()"
   ]
  },
  {
   "cell_type": "code",
   "execution_count": 2,
   "metadata": {},
   "outputs": [
    {
     "output_type": "execute_result",
     "data": {
      "text/plain": [
       "1"
      ]
     },
     "metadata": {},
     "execution_count": 2
    }
   ],
   "source": [
    "seats = [1,0,0,0,1,0,1]\n",
    "solution.maxDistToClosest(seats)"
   ]
  },
  {
   "cell_type": "code",
   "execution_count": 3,
   "metadata": {},
   "outputs": [
    {
     "output_type": "execute_result",
     "data": {
      "text/plain": [
       "3"
      ]
     },
     "metadata": {},
     "execution_count": 3
    }
   ],
   "source": [
    "seats = [1,0,0,0]\n",
    "solution.maxDistToClosest(seats)"
   ]
  },
  {
   "cell_type": "code",
   "execution_count": 4,
   "metadata": {},
   "outputs": [
    {
     "output_type": "execute_result",
     "data": {
      "text/plain": [
       "1"
      ]
     },
     "metadata": {},
     "execution_count": 4
    }
   ],
   "source": [
    "seats=[0,1]\n",
    "solution.maxDistToClosest(seats)"
   ]
  }
 ]
}