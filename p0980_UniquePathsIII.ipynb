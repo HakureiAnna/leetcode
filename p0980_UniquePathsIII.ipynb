{
 "metadata": {
  "language_info": {
   "codemirror_mode": {
    "name": "ipython",
    "version": 3
   },
   "file_extension": ".py",
   "mimetype": "text/x-python",
   "name": "python",
   "nbconvert_exporter": "python",
   "pygments_lexer": "ipython3",
   "version": "3.8.6-candidate"
  },
  "orig_nbformat": 2,
  "kernelspec": {
   "name": "python_defaultSpec_1600842063392",
   "display_name": "Python 3.8.6 64-bit"
  }
 },
 "nbformat": 4,
 "nbformat_minor": 2,
 "cells": [
  {
   "cell_type": "code",
   "execution_count": 2,
   "metadata": {},
   "outputs": [],
   "source": [
    "class Solution:\n",
    "    def uniquePathsIII(self, grid):\n",
    "        x = 0\n",
    "        y = 0\n",
    "        cnt = 0\n",
    "        for i in range(len(grid)):\n",
    "            for j in range(len(grid[0])):\n",
    "                if grid[i][j] == 1:\n",
    "                    x = j\n",
    "                    y = i\n",
    "                elif grid[i][j] == 0:\n",
    "                    cnt += 1\n",
    "        self.paths = 0\n",
    "        self.traverse(grid, x, y, cnt)\n",
    "        return self.paths\n",
    "    \n",
    "    def traverse(self, grid, x, y, cnt):\n",
    "        if x < 0 or y < 0 or x >= len(grid[0]) or y >= len(grid) or grid[y][x] == -1:\n",
    "            return\n",
    "        \n",
    "        if grid[y][x] == 2:\n",
    "            if cnt == -1:\n",
    "                self.paths += 1\n",
    "            return\n",
    "        \n",
    "        cnt -= 1\n",
    "        grid[y][x] = -1\n",
    "        self.traverse(grid, x-1, y, cnt)\n",
    "        self.traverse(grid, x+1, y, cnt)\n",
    "        self.traverse(grid, x, y-1, cnt)\n",
    "        self.traverse(grid, x, y+1, cnt)\n",
    "        grid[y][x] = 0\n",
    "\n",
    "solution = Solution()"
   ]
  },
  {
   "cell_type": "code",
   "execution_count": 4,
   "metadata": {},
   "outputs": [
    {
     "output_type": "execute_result",
     "data": {
      "text/plain": "2"
     },
     "metadata": {},
     "execution_count": 4
    }
   ],
   "source": [
    "grid = [[1,0,0,0],[0,0,0,0],[0,0,2,-1]]\n",
    "solution.uniquePathsIII(grid)"
   ]
  },
  {
   "cell_type": "code",
   "execution_count": 5,
   "metadata": {},
   "outputs": [
    {
     "output_type": "execute_result",
     "data": {
      "text/plain": "4"
     },
     "metadata": {},
     "execution_count": 5
    }
   ],
   "source": [
    "grid = [[1,0,0,0],[0,0,0,0],[0,0,0,2]]\n",
    "solution.uniquePathsIII(grid)"
   ]
  },
  {
   "cell_type": "code",
   "execution_count": 6,
   "metadata": {},
   "outputs": [
    {
     "output_type": "execute_result",
     "data": {
      "text/plain": "0"
     },
     "metadata": {},
     "execution_count": 6
    }
   ],
   "source": [
    "grid = [[0,1],[2,0]]\n",
    "solution.uniquePathsIII(grid)"
   ]
  }
 ]
}