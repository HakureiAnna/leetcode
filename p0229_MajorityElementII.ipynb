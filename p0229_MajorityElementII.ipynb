{
 "metadata": {
  "language_info": {
   "codemirror_mode": {
    "name": "ipython",
    "version": 3
   },
   "file_extension": ".py",
   "mimetype": "text/x-python",
   "name": "python",
   "nbconvert_exporter": "python",
   "pygments_lexer": "ipython3",
   "version": "3.8.6-candidate"
  },
  "orig_nbformat": 2,
  "kernelspec": {
   "name": "python_defaultSpec_1600842318364",
   "display_name": "Python 3.8.6 64-bit"
  }
 },
 "nbformat": 4,
 "nbformat_minor": 2,
 "cells": [
  {
   "cell_type": "code",
   "execution_count": 1,
   "metadata": {},
   "outputs": [],
   "source": [
    "class Solution:\n",
    "    def majorityElement(self, nums):\n",
    "        if len(nums) == 0:\n",
    "            return []\n",
    "        n = len(nums)//3\n",
    "        nums = sorted(nums)\n",
    "        start = 0\n",
    "        current = nums[0]\n",
    "        i = 1\n",
    "        retVal = []\n",
    "        while i < len(nums):\n",
    "            if nums[i] != current:\n",
    "                count = i - start\n",
    "                if count > n:\n",
    "                    retVal.append(current)\n",
    "                    if len(retVal) == 2:\n",
    "                        break\n",
    "                current = nums[i]\n",
    "                start = i                \n",
    "            i += 1\n",
    "        if i == len(nums) and i - start > n:\n",
    "            retVal.append(current)\n",
    "        return retVal\n",
    "\n",
    "solution = Solution()"
   ]
  },
  {
   "cell_type": "code",
   "execution_count": 2,
   "metadata": {},
   "outputs": [
    {
     "output_type": "execute_result",
     "data": {
      "text/plain": "[3]"
     },
     "metadata": {},
     "execution_count": 2
    }
   ],
   "source": [
    "nums = [3,2,3]\n",
    "solution.majorityElement(nums)"
   ]
  },
  {
   "cell_type": "code",
   "execution_count": 3,
   "metadata": {},
   "outputs": [
    {
     "output_type": "execute_result",
     "data": {
      "text/plain": "[1, 2]"
     },
     "metadata": {},
     "execution_count": 3
    }
   ],
   "source": [
    "nums=[1,1,1,3,3,2,2,2]\n",
    "solution.majorityElement(nums)"
   ]
  }
 ]
}