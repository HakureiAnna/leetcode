{
 "metadata": {
  "language_info": {
   "codemirror_mode": {
    "name": "ipython",
    "version": 3
   },
   "file_extension": ".py",
   "mimetype": "text/x-python",
   "name": "python",
   "nbconvert_exporter": "python",
   "pygments_lexer": "ipython3",
   "version": "3.8.6-candidate"
  },
  "orig_nbformat": 2,
  "kernelspec": {
   "name": "python_defaultSpec_1599726403525",
   "display_name": "Python 3"
  }
 },
 "nbformat": 4,
 "nbformat_minor": 2,
 "cells": [
  {
   "cell_type": "code",
   "execution_count": 1,
   "metadata": {},
   "outputs": [],
   "source": [
    "import numpy as np\n",
    "class Solution:\n",
    "    def getHint(self, secret: str, guess: str) -> str:\n",
    "        freqTbl = np.zeros(10)\n",
    "        for ch in secret:\n",
    "            freqTbl[int(ch)] += 1\n",
    "        posMatch = 0\n",
    "        noMatch = 0\n",
    "        for i in range(len(secret)):\n",
    "            if secret[i] == guess[i]:\n",
    "                posMatch += 1\n",
    "            id = int(guess[i])\n",
    "            if freqTbl[id] > 0:\n",
    "                freqTbl[id] -= 1\n",
    "                noMatch += 1\n",
    "        return \"{}A{}B\".format(posMatch, noMatch - posMatch)\n",
    "solution = Solution()        "
   ]
  },
  {
   "cell_type": "code",
   "execution_count": 3,
   "metadata": {
    "tags": []
   },
   "outputs": [
    {
     "output_type": "stream",
     "name": "stdout",
     "text": "1A3B\n"
    }
   ],
   "source": [
    "secret = \"1807\"\n",
    "guess = \"7810\"\n",
    "print(solution.getHint(secret, guess))"
   ]
  },
  {
   "cell_type": "code",
   "execution_count": 4,
   "metadata": {
    "tags": []
   },
   "outputs": [
    {
     "output_type": "stream",
     "name": "stdout",
     "text": "1A1B\n"
    }
   ],
   "source": [
    "secret = \"1123\"\n",
    "guess = \"0111\"\n",
    "print(solution.getHint(secret, guess))"
   ]
  }
 ]
}