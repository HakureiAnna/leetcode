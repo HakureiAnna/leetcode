{
 "metadata": {
  "language_info": {
   "codemirror_mode": {
    "name": "ipython",
    "version": 3
   },
   "file_extension": ".py",
   "mimetype": "text/x-python",
   "name": "python",
   "nbconvert_exporter": "python",
   "pygments_lexer": "ipython3",
   "version": "3.8.6-candidate"
  },
  "orig_nbformat": 2,
  "kernelspec": {
   "name": "Python 3.8.6 64-bit",
   "display_name": "Python 3.8.6 64-bit",
   "metadata": {
    "interpreter": {
     "hash": "2a80cafe02b4a68da2dc5344b52b71726d103bf40eaffc1fd8fc8f246e1d994a"
    }
   }
  }
 },
 "nbformat": 4,
 "nbformat_minor": 2,
 "cells": [
  {
   "cell_type": "code",
   "execution_count": 6,
   "metadata": {},
   "outputs": [],
   "source": [
    "from collections import deque\n",
    "\n",
    "class Solution:\n",
    "    def summaryRanges(self, nums):\n",
    "        n = len(nums)\n",
    "        if n == 0:\n",
    "            return []\n",
    "        result = deque()\n",
    "        start = None\n",
    "        curr = None\n",
    "        start = nums[0]\n",
    "        curr = start\n",
    "        i = 1\n",
    "        while i < n:\n",
    "            if nums[i] != curr+1:\n",
    "                if start == curr:\n",
    "                    result.append(str(start))\n",
    "                else:\n",
    "                    result.append('{}->{}'.format(start, curr))\n",
    "                start = nums[i]\n",
    "            curr = nums[i]\n",
    "            i += 1\n",
    "        if start == curr:\n",
    "            result.append(str(start))\n",
    "        else:\n",
    "            result.append('{}->{}'.format(start, curr))\n",
    "            \n",
    "        return list(result)\n",
    "\n",
    "solution = Solution()"
   ]
  },
  {
   "cell_type": "code",
   "execution_count": 7,
   "metadata": {},
   "outputs": [
    {
     "output_type": "execute_result",
     "data": {
      "text/plain": [
       "['0->2', '4->5', '7']"
      ]
     },
     "metadata": {},
     "execution_count": 7
    }
   ],
   "source": [
    "nums = [0,1,2,4,5,7]\n",
    "solution.summaryRanges(nums)"
   ]
  },
  {
   "cell_type": "code",
   "execution_count": 8,
   "metadata": {},
   "outputs": [
    {
     "output_type": "execute_result",
     "data": {
      "text/plain": [
       "['0', '2->4', '6', '8->9']"
      ]
     },
     "metadata": {},
     "execution_count": 8
    }
   ],
   "source": [
    "nums = [0,2,3,4,6,8,9]\n",
    "solution.summaryRanges(nums)"
   ]
  },
  {
   "cell_type": "code",
   "execution_count": 9,
   "metadata": {},
   "outputs": [
    {
     "output_type": "execute_result",
     "data": {
      "text/plain": [
       "[]"
      ]
     },
     "metadata": {},
     "execution_count": 9
    }
   ],
   "source": [
    "nums = []\n",
    "solution.summaryRanges(nums)"
   ]
  },
  {
   "cell_type": "code",
   "execution_count": 10,
   "metadata": {},
   "outputs": [
    {
     "output_type": "execute_result",
     "data": {
      "text/plain": [
       "['-1']"
      ]
     },
     "metadata": {},
     "execution_count": 10
    }
   ],
   "source": [
    "nums = [-1]\n",
    "solution.summaryRanges(nums)"
   ]
  },
  {
   "cell_type": "code",
   "execution_count": 11,
   "metadata": {},
   "outputs": [
    {
     "output_type": "execute_result",
     "data": {
      "text/plain": [
       "['0']"
      ]
     },
     "metadata": {},
     "execution_count": 11
    }
   ],
   "source": [
    "nums = [0]\n",
    "solution.summaryRanges(nums)"
   ]
  }
 ]
}