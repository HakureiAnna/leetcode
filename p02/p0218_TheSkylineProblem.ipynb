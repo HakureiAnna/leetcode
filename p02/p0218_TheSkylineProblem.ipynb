{
 "metadata": {
  "language_info": {
   "codemirror_mode": {
    "name": "ipython",
    "version": 3
   },
   "file_extension": ".py",
   "mimetype": "text/x-python",
   "name": "python",
   "nbconvert_exporter": "python",
   "pygments_lexer": "ipython3",
   "version": "3.8.6-candidate"
  },
  "orig_nbformat": 2,
  "kernelspec": {
   "name": "python3",
   "display_name": "Python 3.8.6 64-bit",
   "metadata": {
    "interpreter": {
     "hash": "2a80cafe02b4a68da2dc5344b52b71726d103bf40eaffc1fd8fc8f246e1d994a"
    }
   }
  }
 },
 "nbformat": 4,
 "nbformat_minor": 2,
 "cells": [
  {
   "cell_type": "code",
   "execution_count": 5,
   "metadata": {},
   "outputs": [],
   "source": [
    "from collections import deque\n",
    "\n",
    "class Solution:\n",
    "    def getSkyline(self, buildings):\n",
    "        heights = deque()\n",
    "        for building in buildings:\n",
    "            heights.append((building[0], -building[2]))\n",
    "            heights.append((building[1], building[2]))\n",
    "        heights = sorted(list(heights))\n",
    "        heap = dict()\n",
    "        result = deque()\n",
    "        prevH = 0\n",
    "        for height in heights:\n",
    "            if height[1] > 0:\n",
    "                heap[height[1]]-=1\n",
    "                if heap[height[1]] == 0:\n",
    "                    heap.pop(height[1])\n",
    "            else:\n",
    "                if -height[1] in heap:\n",
    "                    heap[-height[1]] += 1\n",
    "                else:\n",
    "                    heap[-height[1]] = 1\n",
    "            maxH = max(heap.keys()) if len(heap.keys()) > 0 else 0\n",
    "            if maxH != prevH:\n",
    "                result.append((height[0], maxH))\n",
    "                prevH = maxH\n",
    "        return list(result)\n",
    "                \n",
    "solution = Solution()"
   ]
  },
  {
   "cell_type": "code",
   "execution_count": 6,
   "metadata": {},
   "outputs": [
    {
     "output_type": "execute_result",
     "data": {
      "text/plain": [
       "[(2, 10), (3, 15), (7, 12), (12, 0), (15, 10), (20, 8), (24, 0)]"
      ]
     },
     "metadata": {},
     "execution_count": 6
    }
   ],
   "source": [
    "buildings = [[2, 9, 10], [3, 7, 15], [5, 12, 12], [15, 20, 10], [19, 24, 8]]\n",
    "solution.getSkyline(buildings)"
   ]
  }
 ]
}