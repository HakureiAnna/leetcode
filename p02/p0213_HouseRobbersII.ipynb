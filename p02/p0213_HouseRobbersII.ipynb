{
 "cells": [
  {
   "cell_type": "code",
   "execution_count": 5,
   "metadata": {},
   "outputs": [],
   "source": [
    "class Solution:\n",
    "    def rob(self, nums):\n",
    "        n = len(nums)\n",
    "        if n == 2:\n",
    "            return max(nums)\n",
    "        if n == 1:\n",
    "            return nums[0]\n",
    "        self.dp = [-1 for i in range(n)]\n",
    "        maxFirst = self.traverse(nums, 0, n-2)\n",
    "        self.dp = [-1 for i in range(n)]\n",
    "        maxSecond = self.traverse(nums, 1, n-1)\n",
    "        return max(maxFirst, maxSecond)\n",
    "        \n",
    "    def traverse(self, nums, i, n):\n",
    "        if i > n:\n",
    "            return 0\n",
    "        if self.dp[i] >= 0:\n",
    "            return self.dp[i]\n",
    "        max1 =nums[i] + self.traverse(nums, i+2, n)\n",
    "        max2 = self.traverse(nums, i+1, n)\n",
    "        self.dp[i] = max(max1, max2)\n",
    "        return self.dp[i]\n",
    "    \n",
    "solution = Solution()"
   ]
  },
  {
   "cell_type": "code",
   "execution_count": 7,
   "metadata": {},
   "outputs": [
    {
     "data": {
      "text/plain": [
       "3"
      ]
     },
     "execution_count": 7,
     "metadata": {},
     "output_type": "execute_result"
    }
   ],
   "source": [
    "nums = [2, 3, 2]\n",
    "solution.rob(nums)"
   ]
  },
  {
   "cell_type": "code",
   "execution_count": 8,
   "metadata": {},
   "outputs": [
    {
     "data": {
      "text/plain": [
       "4"
      ]
     },
     "execution_count": 8,
     "metadata": {},
     "output_type": "execute_result"
    }
   ],
   "source": [
    "nums = [1, 2, 3, 1]\n",
    "solution.rob(nums)"
   ]
  },
  {
   "cell_type": "code",
   "execution_count": 9,
   "metadata": {},
   "outputs": [
    {
     "data": {
      "text/plain": [
       "0"
      ]
     },
     "execution_count": 9,
     "metadata": {},
     "output_type": "execute_result"
    }
   ],
   "source": [
    "nums = [0]\n",
    "solution.rob(nums)"
   ]
  }
 ],
 "metadata": {
  "kernelspec": {
   "display_name": "Python 3",
   "language": "python",
   "name": "python3"
  },
  "language_info": {
   "codemirror_mode": {
    "name": "ipython",
    "version": 3
   },
   "file_extension": ".py",
   "mimetype": "text/x-python",
   "name": "python",
   "nbconvert_exporter": "python",
   "pygments_lexer": "ipython3",
   "version": "3.8.6rc1"
  }
 },
 "nbformat": 4,
 "nbformat_minor": 4
}
