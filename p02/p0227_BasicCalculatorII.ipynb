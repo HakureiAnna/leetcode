{
 "metadata": {
  "language_info": {
   "codemirror_mode": {
    "name": "ipython",
    "version": 3
   },
   "file_extension": ".py",
   "mimetype": "text/x-python",
   "name": "python",
   "nbconvert_exporter": "python",
   "pygments_lexer": "ipython3",
   "version": "3.8.6-candidate"
  },
  "orig_nbformat": 2,
  "kernelspec": {
   "name": "python3",
   "display_name": "Python 3.8.6 64-bit",
   "metadata": {
    "interpreter": {
     "hash": "2a80cafe02b4a68da2dc5344b52b71726d103bf40eaffc1fd8fc8f246e1d994a"
    }
   }
  }
 },
 "nbformat": 4,
 "nbformat_minor": 2,
 "cells": [
  {
   "cell_type": "code",
   "execution_count": 1,
   "metadata": {},
   "outputs": [],
   "source": [
    "from collections import deque\n",
    "class Solution:\n",
    "    def calculate(self, s: str) -> int:\n",
    "        operations = deque()\n",
    "        s = s.strip()\n",
    "        curr = -1\n",
    "        for ch in s:\n",
    "            if ch.isdigit():\n",
    "                if curr < 0:\n",
    "                    curr = int(ch)\n",
    "                else:\n",
    "                    curr = curr*10 + int(ch)\n",
    "            else:\n",
    "                if curr >= 0:\n",
    "                    operations.append(curr)\n",
    "                    curr = -1\n",
    "                \n",
    "                if ch == ' ':\n",
    "                        continue\n",
    "                else:\n",
    "                    operations.append(ch)\n",
    "        operations.append(curr)\n",
    "        x = -1\n",
    "        y = -1\n",
    "        op = ' '\n",
    "        round2 = deque()\n",
    "        while len(operations) > 0:       \n",
    "            x = operations.popleft()         \n",
    "            if len(operations) == 0:\n",
    "                round2.append(x)\n",
    "                break\n",
    "            op = operations.popleft()\n",
    "            if op == '*':\n",
    "                y = operations.popleft()\n",
    "                x = x * y\n",
    "                operations.appendleft(x)\n",
    "            elif op == '/':\n",
    "                y = operations.popleft()\n",
    "                x = x // y\n",
    "                operations.appendleft(x)\n",
    "            else:\n",
    "                round2.append(x)\n",
    "                round2.append(op)\n",
    "        x = round2.popleft()\n",
    "        while len(round2) > 0:\n",
    "            op = round2.popleft()\n",
    "            y = round2.popleft()\n",
    "            if op == '+':\n",
    "                x += y\n",
    "            else:\n",
    "                x -= y\n",
    "        return x\n",
    "solution = Solution()"
   ]
  },
  {
   "cell_type": "code",
   "execution_count": 2,
   "metadata": {},
   "outputs": [
    {
     "output_type": "execute_result",
     "data": {
      "text/plain": [
       "7"
      ]
     },
     "metadata": {},
     "execution_count": 2
    }
   ],
   "source": [
    "s = \"3+2*2\"\n",
    "solution.calculate(s)"
   ]
  },
  {
   "cell_type": "code",
   "execution_count": 4,
   "metadata": {},
   "outputs": [
    {
     "output_type": "execute_result",
     "data": {
      "text/plain": [
       "1"
      ]
     },
     "metadata": {},
     "execution_count": 4
    }
   ],
   "source": [
    "s = \" 3/2 \"\n",
    "solution.calculate(s)"
   ]
  },
  {
   "cell_type": "code",
   "execution_count": 5,
   "metadata": {},
   "outputs": [
    {
     "output_type": "execute_result",
     "data": {
      "text/plain": [
       "5"
      ]
     },
     "metadata": {},
     "execution_count": 5
    }
   ],
   "source": [
    "s = \" 3+5 / 2 \"\n",
    "solution.calculate(s)"
   ]
  }
 ]
}