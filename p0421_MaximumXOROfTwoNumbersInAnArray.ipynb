{
 "metadata": {
  "language_info": {
   "codemirror_mode": {
    "name": "ipython",
    "version": 3
   },
   "file_extension": ".py",
   "mimetype": "text/x-python",
   "name": "python",
   "nbconvert_exporter": "python",
   "pygments_lexer": "ipython3",
   "version": "3.8.6-candidate"
  },
  "orig_nbformat": 2,
  "kernelspec": {
   "name": "python_defaultSpec_1600248204649",
   "display_name": "Python 3.8.6 64-bit"
  }
 },
 "nbformat": 4,
 "nbformat_minor": 2,
 "cells": [
  {
   "cell_type": "code",
   "execution_count": 43,
   "metadata": {},
   "outputs": [],
   "source": [
    "class Node:\n",
    "    def __init__(self):\n",
    "        self.children = [None, None]\n",
    "        self.val = 0\n",
    "\n",
    "class Solution:\n",
    "\n",
    "    def findMaximumXOR(self, nums):\n",
    "        self.root = Node()\n",
    "        self.nums = nums\n",
    "        self.insertNums()\n",
    "        return self.getMax()\n",
    "\n",
    "    def insertNums(self):\n",
    "        for num in self.nums:\n",
    "            i = 31\n",
    "            prev = self.root\n",
    "            while i >= 0:\n",
    "                bit = (num >> i) & 1\n",
    "                if prev.children[bit] is None:\n",
    "                    prev.children[bit] = Node()\n",
    "                prev = prev.children[bit]\n",
    "                i -= 1\n",
    "            prev.val = num\n",
    "\n",
    "    def getMax(self):\n",
    "        maxNum = 0\n",
    "        for num in self.nums:\n",
    "            prev = self.root\n",
    "            i = 31\n",
    "            while i >= 0:\n",
    "                bit = (num >> i) & 1\n",
    "                index = 1 if bit == 0 else 0\n",
    "                index = 1 - index if prev.children[index] is None else index           \n",
    "                prev = prev.children[index]\n",
    "                i -= 1\n",
    "            val = prev.val\n",
    "            maxNum = max(maxNum, num ^ val)\n",
    "        return maxNum\n",
    "\n",
    "solution = Solution()"
   ]
  },
  {
   "cell_type": "code",
   "execution_count": 44,
   "metadata": {
    "tags": []
   },
   "outputs": [
    {
     "output_type": "execute_result",
     "data": {
      "text/plain": "28"
     },
     "metadata": {},
     "execution_count": 44
    }
   ],
   "source": [
    "nums = [3, 10, 5, 25, 2, 8]\n",
    "solution.findMaximumXOR(nums)"
   ]
  }
 ]
}