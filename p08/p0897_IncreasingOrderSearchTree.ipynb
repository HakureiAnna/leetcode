{
 "metadata": {
  "language_info": {
   "codemirror_mode": {
    "name": "ipython",
    "version": 3
   },
   "file_extension": ".py",
   "mimetype": "text/x-python",
   "name": "python",
   "nbconvert_exporter": "python",
   "pygments_lexer": "ipython3",
   "version": 3
  },
  "orig_nbformat": 2
 },
 "nbformat": 4,
 "nbformat_minor": 2,
 "cells": [
  {
   "cell_type": "code",
   "execution_count": null,
   "metadata": {},
   "outputs": [],
   "source": [
    "# Definition for a binary tree node.\n",
    "# class TreeNode:\n",
    "#     def __init__(self, val=0, left=None, right=None):\n",
    "#         self.val = val\n",
    "#         self.left = left\n",
    "#         self.right = right\n",
    "\n",
    "class Solution:\n",
    "    def increasingBST(self, root: TreeNode) -> TreeNode:\n",
    "        self.root = None\n",
    "        self.curr = None\n",
    "        return self.traverse(root)\n",
    "        \n",
    "    def traverse(self, node):        \n",
    "        if node is None:\n",
    "            return\n",
    "        self.traverse(node.left)\n",
    "        \n",
    "        if self.root is None:\n",
    "            self.root = TreeNode(node.val)\n",
    "            self.curr = self.root\n",
    "        else:\n",
    "            self.curr.right = TreeNode(node.val)\n",
    "            self.curr = self.curr.right\n",
    "        self.traverse(node.right)\n",
    "        return self.root\n",
    "        \n",
    "solution = Solution()"
   ]
  },
  {
   "cell_type": "code",
   "execution_count": null,
   "metadata": {},
   "outputs": [],
   "source": [
    "root = [5, 3, 6, 2, 4, None, 8, 1, None, None, None, 7, 9]\n",
    "solution.increasingBST(root)"
   ]
  },
  {
   "cell_type": "code",
   "execution_count": null,
   "metadata": {},
   "outputs": [],
   "source": [
    "root = [5, 1, 7]\n",
    "solution.increasingBST(root)"
   ]
  }
 ]
}