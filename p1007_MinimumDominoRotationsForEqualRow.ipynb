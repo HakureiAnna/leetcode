{
 "cells": [
  {
   "cell_type": "code",
   "execution_count": 7,
   "metadata": {},
   "outputs": [],
   "source": [
    "from collections import Counter\n",
    "\n",
    "class Solution:\n",
    "    def minDominoRotations(self, A, B):\n",
    "        cntA = Counter(A)\n",
    "        cntB = Counter(B)\n",
    "        cntAB = cntA + cntB\n",
    "        n = len(A)\n",
    "        match = -1\n",
    "        for x in cntAB:\n",
    "            if cntAB[x] >= n:\n",
    "                match = x\n",
    "                break\n",
    "        if match == -1:\n",
    "            return -1\n",
    "        if cntA[match] > cntB[match]:\n",
    "            dst = A\n",
    "            src = B\n",
    "        else:\n",
    "            dst = B\n",
    "            src = A\n",
    "        cnt = 0\n",
    "        for i in range(n):\n",
    "            if dst[i] != match:\n",
    "                if src[i] == match:\n",
    "                    cnt += 1\n",
    "                else:\n",
    "                    return -1\n",
    "        return cnt\n",
    "    \n",
    "solution = Solution()"
   ]
  },
  {
   "cell_type": "code",
   "execution_count": 8,
   "metadata": {},
   "outputs": [
    {
     "data": {
      "text/plain": [
       "2"
      ]
     },
     "execution_count": 8,
     "metadata": {},
     "output_type": "execute_result"
    }
   ],
   "source": [
    "A = [2, 1, 2, 4, 2, 2]\n",
    "B = [5, 2, 6, 2, 3, 2]\n",
    "solution.minDominoRotations(A, B)"
   ]
  },
  {
   "cell_type": "code",
   "execution_count": 9,
   "metadata": {},
   "outputs": [
    {
     "data": {
      "text/plain": [
       "-1"
      ]
     },
     "execution_count": 9,
     "metadata": {},
     "output_type": "execute_result"
    }
   ],
   "source": [
    "A = [3, 5, 1, 2, 3]\n",
    "B = [3, 6, 3, 3, 4]\n",
    "solution.minDominoRotations(A, B)"
   ]
  }
 ],
 "metadata": {
  "kernelspec": {
   "display_name": "Python 3",
   "language": "python",
   "name": "python3"
  },
  "language_info": {
   "codemirror_mode": {
    "name": "ipython",
    "version": 3
   },
   "file_extension": ".py",
   "mimetype": "text/x-python",
   "name": "python",
   "nbconvert_exporter": "python",
   "pygments_lexer": "ipython3",
   "version": "3.8.6rc1"
  }
 },
 "nbformat": 4,
 "nbformat_minor": 4
}
