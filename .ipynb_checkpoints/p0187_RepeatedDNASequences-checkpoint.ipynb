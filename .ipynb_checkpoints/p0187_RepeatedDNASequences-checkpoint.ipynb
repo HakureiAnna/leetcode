{
 "cells": [
  {
   "cell_type": "code",
   "execution_count": 44,
   "metadata": {},
   "outputs": [],
   "source": [
    "class Node:\n",
    "    def __init__(self):\n",
    "        self.children = {}\n",
    "        self.count = 0\n",
    "        self.s = None\n",
    "        \n",
    "class Trie:\n",
    "    def __init__(self):\n",
    "        self.root = Node()\n",
    "        \n",
    "    def add(self, s):\n",
    "        curr = self.root\n",
    "        for ch in s:\n",
    "            if ch not in curr.children:\n",
    "                curr.children[ch] = Node()\n",
    "            curr = curr.children[ch]\n",
    "        curr.s = s\n",
    "        curr.count += 1\n",
    "        \n",
    "    def uniques(self):\n",
    "        lst = []\n",
    "        self.traverse(self.root, lst)\n",
    "        return lst\n",
    "    \n",
    "    def traverse(self, node, lst):\n",
    "        if node is None:\n",
    "            return\n",
    "        if node.count > 1:\n",
    "            lst.append(node.s)\n",
    "        for child in node.children:\n",
    "            self.traverse(node.children[child], lst)\n",
    "\n",
    "class Solution:\n",
    "    def findRepeatedDnaSequences(self, s):\n",
    "        trie = Trie()\n",
    "        for i in range(len(s)-10+1):\n",
    "            trie.add(s[i:(i+10)])\n",
    "        return trie.uniques()\n",
    "\n",
    "solution = Solution()"
   ]
  },
  {
   "cell_type": "code",
   "execution_count": 45,
   "metadata": {},
   "outputs": [
    {
     "data": {
      "text/plain": [
       "['AAAAACCCCC', 'CCCCCAAAAA']"
      ]
     },
     "execution_count": 45,
     "metadata": {},
     "output_type": "execute_result"
    }
   ],
   "source": [
    "s = \"AAAAACCCCCAAAAACCCCCCAAAAAGGGTTT\"\n",
    "solution.findRepeatedDnaSequences(s)"
   ]
  },
  {
   "cell_type": "code",
   "execution_count": 46,
   "metadata": {},
   "outputs": [
    {
     "data": {
      "text/plain": [
       "['AAAAAAAAAA']"
      ]
     },
     "execution_count": 46,
     "metadata": {},
     "output_type": "execute_result"
    }
   ],
   "source": [
    "s = \"AAAAAAAAAAA\"\n",
    "solution.findRepeatedDnaSequences(s)"
   ]
  }
 ],
 "metadata": {
  "kernelspec": {
   "display_name": "Python 3",
   "language": "python",
   "name": "python3"
  },
  "language_info": {
   "codemirror_mode": {
    "name": "ipython",
    "version": 3
   },
   "file_extension": ".py",
   "mimetype": "text/x-python",
   "name": "python",
   "nbconvert_exporter": "python",
   "pygments_lexer": "ipython3",
   "version": "3.8.6rc1"
  }
 },
 "nbformat": 4,
 "nbformat_minor": 4
}
