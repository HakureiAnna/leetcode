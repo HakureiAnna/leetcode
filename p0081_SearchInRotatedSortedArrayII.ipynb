{
 "metadata": {
  "language_info": {
   "codemirror_mode": {
    "name": "ipython",
    "version": 3
   },
   "file_extension": ".py",
   "mimetype": "text/x-python",
   "name": "python",
   "nbconvert_exporter": "python",
   "pygments_lexer": "ipython3",
   "version": "3.8.6-candidate"
  },
  "orig_nbformat": 2,
  "kernelspec": {
   "name": "python3",
   "display_name": "Python 3.8.6 64-bit",
   "metadata": {
    "interpreter": {
     "hash": "2a80cafe02b4a68da2dc5344b52b71726d103bf40eaffc1fd8fc8f246e1d994a"
    }
   }
  }
 },
 "nbformat": 4,
 "nbformat_minor": 2,
 "cells": [
  {
   "cell_type": "code",
   "execution_count": 1,
   "metadata": {},
   "outputs": [],
   "source": [
    "class Solution:\n",
    "    def search(self, nums, target):\n",
    "        if len(nums) == 0:\n",
    "            return False\n",
    "        left = 0\n",
    "        right = len(nums)-1\n",
    "        while left < right:\n",
    "            mid = left + (right-left)//2\n",
    "            if nums[mid] == target:\n",
    "                return True\n",
    "            if nums[left] == nums[mid]:\n",
    "                left+=1\n",
    "                continue\n",
    "            if nums[right] == nums[mid]:\n",
    "                right-=1\n",
    "                continue\n",
    "            if nums[left] < nums[mid]:\n",
    "                if target >= nums[left] and target < nums[mid]:\n",
    "                    right = mid\n",
    "                else:\n",
    "                    left = mid + 1\n",
    "            else:\n",
    "                if target > nums[mid] and target <= nums[right]:\n",
    "                    left = mid + 1\n",
    "                else:\n",
    "                    right = mid\n",
    "        return left >= 0 and target == nums[left]\n",
    "solution = Solution()"
   ]
  },
  {
   "cell_type": "code",
   "execution_count": 2,
   "metadata": {},
   "outputs": [
    {
     "output_type": "execute_result",
     "data": {
      "text/plain": [
       "True"
      ]
     },
     "metadata": {},
     "execution_count": 2
    }
   ],
   "source": [
    "nums = [2,5,6,0,0,1,2]\n",
    "target = 0\n",
    "solution.search(nums, target)"
   ]
  },
  {
   "cell_type": "code",
   "execution_count": 3,
   "metadata": {},
   "outputs": [
    {
     "output_type": "execute_result",
     "data": {
      "text/plain": [
       "False"
      ]
     },
     "metadata": {},
     "execution_count": 3
    }
   ],
   "source": [
    "nums = [2,5,6,0,0,1,2]\n",
    "target = 3\n",
    "solution.search(nums, target)"
   ]
  }
 ]
}