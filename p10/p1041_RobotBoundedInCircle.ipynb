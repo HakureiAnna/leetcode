{
 "metadata": {
  "language_info": {
   "codemirror_mode": {
    "name": "ipython",
    "version": 3
   },
   "file_extension": ".py",
   "mimetype": "text/x-python",
   "name": "python",
   "nbconvert_exporter": "python",
   "pygments_lexer": "ipython3",
   "version": "3.8.6-candidate"
  },
  "orig_nbformat": 2,
  "kernelspec": {
   "name": "python_defaultSpec_1600327094140",
   "display_name": "Python 3.8.6 64-bit"
  }
 },
 "nbformat": 4,
 "nbformat_minor": 2,
 "cells": [
  {
   "cell_type": "code",
   "execution_count": 7,
   "metadata": {},
   "outputs": [],
   "source": [
    "class Solution:\n",
    "    def isRobotBounded(self, instructions):\n",
    "        x,y = 0, 0\n",
    "        dir = 0      # 0: n, 1: e, 2: s, 3 = w\n",
    "        for i in range(4):\n",
    "            for instruction in instructions:\n",
    "                if instruction == 'G':\n",
    "                    if dir == 0:\n",
    "                        y += 1\n",
    "                    elif dir == 1:\n",
    "                        x += 1\n",
    "                    elif dir == 2:\n",
    "                        y -= 1\n",
    "                    else:    \n",
    "                        x -= 1\n",
    "                elif instruction == 'L':\n",
    "                    dir -= 1\n",
    "                    if dir < 0:\n",
    "                        dir = 3\n",
    "                else:\n",
    "                    dir += 1\n",
    "                    if dir == 4:\n",
    "                        dir = 0\n",
    "        return not x and not y\n",
    "        \n",
    "solution = Solution()"
   ]
  },
  {
   "cell_type": "code",
   "execution_count": 8,
   "metadata": {},
   "outputs": [
    {
     "output_type": "execute_result",
     "data": {
      "text/plain": "True"
     },
     "metadata": {},
     "execution_count": 8
    }
   ],
   "source": [
    "instructions = \"GGLLGG\"\n",
    "solution.isRobotBounded(instructions)"
   ]
  },
  {
   "cell_type": "code",
   "execution_count": 10,
   "metadata": {},
   "outputs": [
    {
     "output_type": "execute_result",
     "data": {
      "text/plain": "False"
     },
     "metadata": {},
     "execution_count": 10
    }
   ],
   "source": [
    "instructions = \"GG\"\n",
    "solution.isRobotBounded(instructions)"
   ]
  },
  {
   "cell_type": "code",
   "execution_count": 11,
   "metadata": {},
   "outputs": [
    {
     "output_type": "execute_result",
     "data": {
      "text/plain": "True"
     },
     "metadata": {},
     "execution_count": 11
    }
   ],
   "source": [
    "instructions = \"GL\"\n",
    "solution.isRobotBounded(instructions)"
   ]
  }
 ]
}