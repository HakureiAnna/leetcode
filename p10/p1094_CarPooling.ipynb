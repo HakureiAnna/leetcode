{
 "metadata": {
  "language_info": {
   "codemirror_mode": {
    "name": "ipython",
    "version": 3
   },
   "file_extension": ".py",
   "mimetype": "text/x-python",
   "name": "python",
   "nbconvert_exporter": "python",
   "pygments_lexer": "ipython3",
   "version": "3.8.6-candidate"
  },
  "orig_nbformat": 2,
  "kernelspec": {
   "name": "python_defaultSpec_1600842178632",
   "display_name": "Python 3.8.6 64-bit"
  }
 },
 "nbformat": 4,
 "nbformat_minor": 2,
 "cells": [
  {
   "cell_type": "code",
   "execution_count": 1,
   "metadata": {},
   "outputs": [],
   "source": [
    "class Solution:\n",
    "    def carPooling(self, trips, capacity):\n",
    "        filled = [0] * 1001\n",
    "        maxId = 0\n",
    "        for trip in trips:\n",
    "            filled[trip[1]] += trip[0]\n",
    "            filled[trip[2]] -= trip[0]\n",
    "            maxId = max(maxId, trip[2])\n",
    "            \n",
    "        if filled[0] > capacity:\n",
    "            return False\n",
    "        for i in range(1, maxId+1):\n",
    "            filled[i] += filled[i-1]\n",
    "            if filled[i] > capacity:\n",
    "                return False\n",
    "        return True\n",
    "            \n",
    "solution = Solution()"
   ]
  },
  {
   "cell_type": "code",
   "execution_count": 2,
   "metadata": {},
   "outputs": [
    {
     "output_type": "execute_result",
     "data": {
      "text/plain": "False"
     },
     "metadata": {},
     "execution_count": 2
    }
   ],
   "source": [
    "trips = [[2,1,5], [3,3,7]]\n",
    "capacity = 4\n",
    "solution.carPooling(trips, capacity)"
   ]
  },
  {
   "cell_type": "code",
   "execution_count": 5,
   "metadata": {},
   "outputs": [
    {
     "output_type": "execute_result",
     "data": {
      "text/plain": "True"
     },
     "metadata": {},
     "execution_count": 5
    }
   ],
   "source": [
    "trips = [[2,1,5], [3,3,7]]\n",
    "capacity = 5\n",
    "solution.carPooling(trips, capacity)"
   ]
  },
  {
   "cell_type": "code",
   "execution_count": 6,
   "metadata": {},
   "outputs": [
    {
     "output_type": "execute_result",
     "data": {
      "text/plain": "True"
     },
     "metadata": {},
     "execution_count": 6
    }
   ],
   "source": [
    "trips = [[2,1,5], [3,5,7]]\n",
    "capacity = 3\n",
    "solution.carPooling(trips, capacity)"
   ]
  },
  {
   "cell_type": "code",
   "execution_count": 7,
   "metadata": {},
   "outputs": [
    {
     "output_type": "execute_result",
     "data": {
      "text/plain": "True"
     },
     "metadata": {},
     "execution_count": 7
    }
   ],
   "source": [
    "trips = [[3,2,7], [3,7,9], [8,3,9]]\n",
    "capacity = 11\n",
    "solution.carPooling(trips, capacity)"
   ]
  }
 ]
}