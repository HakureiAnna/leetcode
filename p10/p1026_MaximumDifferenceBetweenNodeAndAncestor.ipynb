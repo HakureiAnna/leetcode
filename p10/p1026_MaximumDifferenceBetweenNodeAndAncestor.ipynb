{
 "metadata": {
  "language_info": {
   "codemirror_mode": {
    "name": "ipython",
    "version": 3
   },
   "file_extension": ".py",
   "mimetype": "text/x-python",
   "name": "python",
   "nbconvert_exporter": "python",
   "pygments_lexer": "ipython3",
   "version": "3.8.6-candidate"
  },
  "orig_nbformat": 2,
  "kernelspec": {
   "name": "Python 3.8.6 64-bit",
   "display_name": "Python 3.8.6 64-bit",
   "metadata": {
    "interpreter": {
     "hash": "2a80cafe02b4a68da2dc5344b52b71726d103bf40eaffc1fd8fc8f246e1d994a"
    }
   }
  }
 },
 "nbformat": 4,
 "nbformat_minor": 2,
 "cells": [
  {
   "cell_type": "code",
   "execution_count": 2,
   "metadata": {},
   "outputs": [],
   "source": [
    "# Definition for a binary tree node.\n",
    "# class TreeNode:\n",
    "#     def __init__(self, val=0, left=None, right=None):\n",
    "#         self.val = val\n",
    "#         self.left = left\n",
    "#         self.right = right\n",
    "class Solution:\n",
    "    def maxAncestorDiff(self, root):\n",
    "        self.diff = 0\n",
    "        if root is None:\n",
    "            return 0\n",
    "        self.traverse(root, root.val,  root.val)\n",
    "        return self.diff\n",
    "        \n",
    "    def traverse(self, node, minVal, maxVal):\n",
    "        if node is None:\n",
    "            return\n",
    "        currMin = node.val if node.val < minVal else minVal\n",
    "        currMax = node.val if node.val > maxVal else maxVal\n",
    "        if node.left is not None:\n",
    "            self.traverse(node.left, currMin, currMax)\n",
    "        if node.right is not None:\n",
    "            self.traverse(node.right, currMin, currMax)\n",
    "        tmp = max(abs(node.val-minVal), abs(maxVal-node.val))\n",
    "        if tmp > self.diff:\n",
    "            self.diff = tmp\n",
    "solution = Solution()"
   ]
  },
  {
   "cell_type": "code",
   "execution_count": null,
   "metadata": {},
   "outputs": [],
   "source": [
    "root = [8,3,10,1,6,null,14,null,null,4,7,13]\n",
    "solution.maxAncestorDiff(root)"
   ]
  },
  {
   "cell_type": "code",
   "execution_count": null,
   "metadata": {},
   "outputs": [],
   "source": [
    "root = [1,null,2,null,0,3]\n",
    "solution.maxAncestorDiff(root)"
   ]
  }
 ]
}