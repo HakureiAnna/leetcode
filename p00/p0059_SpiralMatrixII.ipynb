{
 "cells": [
  {
   "cell_type": "code",
   "execution_count": 1,
   "metadata": {},
   "outputs": [],
   "source": [
    "class Solution:\n",
    "    def generateMatrix(self, n):\n",
    "        limits = [n, n, -1, 0]\n",
    "        n2 = n**2\n",
    "        direction = 0\n",
    "        i = 0\n",
    "        j = 0\n",
    "        curr = 1\n",
    "        retVal = [[0 for j in range(n)] for i in range(n)]\n",
    "        while curr <= n2:\n",
    "            retVal[i][j] = curr\n",
    "            curr += 1\n",
    "            if direction == 0:\n",
    "                j += 1\n",
    "                if j == limits[direction]:\n",
    "                    j -= 1\n",
    "                    i += 1\n",
    "                    limits[direction] -= 1\n",
    "                    direction = 1\n",
    "            elif direction == 1:\n",
    "                i += 1\n",
    "                if i == limits[direction]:\n",
    "                    i -= 1\n",
    "                    j -= 1\n",
    "                    limits[direction] -= 1\n",
    "                    direction = 2\n",
    "            elif direction == 2:\n",
    "                j -= 1\n",
    "                if j == limits[direction]:\n",
    "                    j += 1\n",
    "                    i -= 1\n",
    "                    limits[direction] += 1\n",
    "                    direction = 3\n",
    "            else:\n",
    "                i -= 1\n",
    "                if i == limits[direction]:\n",
    "                    i += 1\n",
    "                    j += 1\n",
    "                    limits[direction] += 1\n",
    "                    direction = 0\n",
    "        return retVal\n",
    "    \n",
    "solution = Solution()        "
   ]
  },
  {
   "cell_type": "code",
   "execution_count": 2,
   "metadata": {},
   "outputs": [
    {
     "data": {
      "text/plain": [
       "[[1, 2, 3], [8, 9, 4], [7, 6, 5]]"
      ]
     },
     "execution_count": 2,
     "metadata": {},
     "output_type": "execute_result"
    }
   ],
   "source": [
    "n = 3\n",
    "solution.generateMatrix(n)"
   ]
  },
  {
   "cell_type": "code",
   "execution_count": 3,
   "metadata": {},
   "outputs": [
    {
     "data": {
      "text/plain": [
       "[[1]]"
      ]
     },
     "execution_count": 3,
     "metadata": {},
     "output_type": "execute_result"
    }
   ],
   "source": [
    "n = 1\n",
    "solution.generateMatrix(n)"
   ]
  }
 ],
 "metadata": {
  "kernelspec": {
   "display_name": "Python 3",
   "language": "python",
   "name": "python3"
  },
  "language_info": {
   "codemirror_mode": {
    "name": "ipython",
    "version": 3
   },
   "file_extension": ".py",
   "mimetype": "text/x-python",
   "name": "python",
   "nbconvert_exporter": "python",
   "pygments_lexer": "ipython3",
   "version": "3.8.6rc1"
  }
 },
 "nbformat": 4,
 "nbformat_minor": 4
}
