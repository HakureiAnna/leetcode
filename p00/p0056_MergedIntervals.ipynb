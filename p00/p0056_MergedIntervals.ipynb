{
 "metadata": {
  "language_info": {
   "codemirror_mode": {
    "name": "ipython",
    "version": 3
   },
   "file_extension": ".py",
   "mimetype": "text/x-python",
   "name": "python",
   "nbconvert_exporter": "python",
   "pygments_lexer": "ipython3",
   "version": "3.8.6-candidate"
  },
  "orig_nbformat": 2,
  "kernelspec": {
   "name": "python3",
   "display_name": "Python 3.8.6 64-bit",
   "metadata": {
    "interpreter": {
     "hash": "2a80cafe02b4a68da2dc5344b52b71726d103bf40eaffc1fd8fc8f246e1d994a"
    }
   }
  }
 },
 "nbformat": 4,
 "nbformat_minor": 2,
 "cells": [
  {
   "cell_type": "code",
   "execution_count": 4,
   "metadata": {},
   "outputs": [],
   "source": [
    "from collections import deque\n",
    "from functools import cmp_to_key\n",
    "\n",
    "def cmp(a, b):\n",
    "    if a[0] < b[0]:\n",
    "        return -1\n",
    "    elif a[0] > b[0]:\n",
    "        return 0\n",
    "    else:\n",
    "        return 1 if a[1] < b[1] else -1\n",
    "        \n",
    "\n",
    "class Solution:\n",
    "    def merge(self, intervals):\n",
    "        intervals=sorted(intervals, key=cmp_to_key(cmp))\n",
    "        retVal = deque()\n",
    "        interval = intervals[0]\n",
    "        for i in range(1, len(intervals)):\n",
    "            if interval[1] >= intervals[i][1]:\n",
    "                continue\n",
    "            elif interval[1] >= intervals[i][0]:\n",
    "                interval[1] = intervals[i][1]\n",
    "            else:\n",
    "                retVal.append(interval)\n",
    "                interval = intervals[i]\n",
    "        retVal.append(interval)\n",
    "        return list(retVal)\n",
    "\n",
    "solution = Solution()"
   ]
  },
  {
   "cell_type": "code",
   "execution_count": 6,
   "metadata": {},
   "outputs": [
    {
     "output_type": "execute_result",
     "data": {
      "text/plain": [
       "[[1, 6], [8, 10], [15, 18]]"
      ]
     },
     "metadata": {},
     "execution_count": 6
    }
   ],
   "source": [
    "intervals = [[1,3],[2,6],[8,10],[15,18]]\n",
    "solution.merge(intervals)"
   ]
  },
  {
   "cell_type": "code",
   "execution_count": 9,
   "metadata": {},
   "outputs": [
    {
     "output_type": "execute_result",
     "data": {
      "text/plain": [
       "[[1, 5]]"
      ]
     },
     "metadata": {},
     "execution_count": 9
    }
   ],
   "source": [
    "intervals = [[1,4],[4,5]]\n",
    "solution.merge(intervals)"
   ]
  }
 ]
}