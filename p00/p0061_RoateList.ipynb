{
 "metadata": {
  "language_info": {
   "codemirror_mode": {
    "name": "ipython",
    "version": 3
   },
   "file_extension": ".py",
   "mimetype": "text/x-python",
   "name": "python",
   "nbconvert_exporter": "python",
   "pygments_lexer": "ipython3",
   "version": "3.8.6-candidate"
  },
  "orig_nbformat": 2,
  "kernelspec": {
   "name": "Python 3.8.6 64-bit",
   "display_name": "Python 3.8.6 64-bit",
   "metadata": {
    "interpreter": {
     "hash": "2a80cafe02b4a68da2dc5344b52b71726d103bf40eaffc1fd8fc8f246e1d994a"
    }
   }
  }
 },
 "nbformat": 4,
 "nbformat_minor": 2,
 "cells": [
  {
   "cell_type": "code",
   "execution_count": 11,
   "metadata": {},
   "outputs": [],
   "source": [
    "# Definition for singly-linked list.\n",
    "# class ListNode:\n",
    "#     def __init__(self, val=0, next=None):\n",
    "#         self.val = val\n",
    "#         self.next = next\n",
    "class Solution:\n",
    "        \n",
    "    def rotateRight(self, head, k):\n",
    "        if head is None or k == 0:\n",
    "            return head\n",
    "        curr = head\n",
    "        count = 0\n",
    "        while curr.next is not None:\n",
    "            count += 1\n",
    "            curr = curr.next\n",
    "        count += 1\n",
    "        curr.next = head\n",
    "        \n",
    "        if k ==0 or (k > 1 and count / k == 0):\n",
    "            curr.next = None\n",
    "            return head\n",
    "        limit = 0\n",
    "        if count > k:\n",
    "            limit = count - k - 1\n",
    "        else:\n",
    "            limit = count - k % count - 1\n",
    "        \n",
    "        curr = head\n",
    "        for i in range(limit):\n",
    "            curr = curr.next\n",
    "        tmp = curr.next\n",
    "        curr.next = None        \n",
    "        \n",
    "        return tmp\n",
    "\n",
    "class Node:\n",
    "    def __init__(self, val):\n",
    "        self.val = val\n",
    "        self.next = None\n",
    "\n",
    "class LinkedList:\n",
    "    def __init__(self):\n",
    "        self.root = None\n",
    "        self.prev = None\n",
    "    \n",
    "    def add(self, val):\n",
    "        if self.root is None:\n",
    "            self.root = Node(val)\n",
    "            self.prev = self.root\n",
    "            return\n",
    "        self.prev.next = Node(val)\n",
    "        self.prev = self.prev.next\n",
    "\n",
    "    def fill(self, vals):\n",
    "        self.clear()\n",
    "        for val in vals:\n",
    "            self.add(val)\n",
    "\n",
    "    def clear(self):\n",
    "        self.root = None\n",
    "\n",
    "    def print(self):\n",
    "        curr = self.root\n",
    "        while curr is not None:\n",
    "            print(curr.val)\n",
    "            if curr.next is not None:\n",
    "                print('->')\n",
    "            curr = curr.next\n",
    "\n",
    "solution = Solution()\n",
    "lk = LinkedList()"
   ]
  },
  {
   "cell_type": "code",
   "execution_count": 13,
   "metadata": {
    "tags": []
   },
   "outputs": [
    {
     "output_type": "stream",
     "name": "stdout",
     "text": "4\n-&gt;\n5\n-&gt;\n1\n-&gt;\n2\n-&gt;\n3\n"
    }
   ],
   "source": [
    "input = [1, 2, 3, 4, 5]\n",
    "k = 2\n",
    "lk.fill(input)\n",
    "lk.root = solution.rotateRight(lk.root, k)\n",
    "lk.print()"
   ]
  },
  {
   "cell_type": "code",
   "execution_count": 14,
   "metadata": {
    "tags": []
   },
   "outputs": [
    {
     "output_type": "stream",
     "name": "stdout",
     "text": "2\n-&gt;\n0\n-&gt;\n1\n"
    }
   ],
   "source": [
    "input = [0, 1, 2]\n",
    "k = 4\n",
    "lk.fill(input)\n",
    "lk.root = solution.rotateRight(lk.root, k)\n",
    "lk.print()"
   ]
  }
 ]
}