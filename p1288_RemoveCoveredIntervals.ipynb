{
 "metadata": {
  "language_info": {
   "codemirror_mode": {
    "name": "ipython",
    "version": 3
   },
   "file_extension": ".py",
   "mimetype": "text/x-python",
   "name": "python",
   "nbconvert_exporter": "python",
   "pygments_lexer": "ipython3",
   "version": "3.8.6-candidate"
  },
  "orig_nbformat": 2,
  "kernelspec": {
   "name": "Python 3.8.6 64-bit",
   "display_name": "Python 3.8.6 64-bit",
   "metadata": {
    "interpreter": {
     "hash": "2a80cafe02b4a68da2dc5344b52b71726d103bf40eaffc1fd8fc8f246e1d994a"
    }
   }
  }
 },
 "nbformat": 4,
 "nbformat_minor": 2,
 "cells": [
  {
   "cell_type": "code",
   "execution_count": 10,
   "metadata": {},
   "outputs": [],
   "source": [
    "from functools import cmp_to_key\n",
    "\n",
    "def cmp(a, b):\n",
    "    return b[1] - a[1] if a[0] == b[0] else a[0] - b[0]\n",
    "\n",
    "class Solution:\n",
    "    def removeCoveredIntervals(self, intervals):\n",
    "        n = len(intervals)\n",
    "        if n <= 1:\n",
    "            return n\n",
    "        remaining = 1\n",
    "        intervals = sorted(intervals, key=cmp_to_key(cmp))\n",
    "        prev = intervals[0]\n",
    "        for i in range(1, n):\n",
    "            next = intervals[i]\n",
    "            if prev[0] <= next[0] and prev[1] >= next[1]:\n",
    "                continue\n",
    "            prev = intervals[i]\n",
    "            remaining += 1\n",
    "        \n",
    "        return remaining\n",
    "\n",
    "solution = Solution()"
   ]
  },
  {
   "cell_type": "code",
   "execution_count": 11,
   "metadata": {
    "tags": []
   },
   "outputs": [
    {
     "output_type": "execute_result",
     "data": {
      "text/plain": "2"
     },
     "metadata": {},
     "execution_count": 11
    }
   ],
   "source": [
    "intervals = [[1,4], [3,6], [2,8]]\n",
    "solution.removeCoveredIntervals(intervals)"
   ]
  },
  {
   "cell_type": "code",
   "execution_count": 12,
   "metadata": {
    "tags": []
   },
   "outputs": [
    {
     "output_type": "execute_result",
     "data": {
      "text/plain": "1"
     },
     "metadata": {},
     "execution_count": 12
    }
   ],
   "source": [
    "intervals = [[1,4], [2,3]]\n",
    "solution.removeCoveredIntervals(intervals)"
   ]
  },
  {
   "cell_type": "code",
   "execution_count": 13,
   "metadata": {
    "tags": []
   },
   "outputs": [
    {
     "output_type": "execute_result",
     "data": {
      "text/plain": "2"
     },
     "metadata": {},
     "execution_count": 13
    }
   ],
   "source": [
    "intervals = [[0,10], [5,12]]\n",
    "solution.removeCoveredIntervals(intervals)"
   ]
  },
  {
   "cell_type": "code",
   "execution_count": 14,
   "metadata": {
    "tags": []
   },
   "outputs": [
    {
     "output_type": "execute_result",
     "data": {
      "text/plain": "2"
     },
     "metadata": {},
     "execution_count": 14
    }
   ],
   "source": [
    "intervals = [[3,10], [4,10], [5,11]]\n",
    "solution.removeCoveredIntervals(intervals)"
   ]
  },
  {
   "cell_type": "code",
   "execution_count": 15,
   "metadata": {
    "tags": []
   },
   "outputs": [
    {
     "output_type": "execute_result",
     "data": {
      "text/plain": "1"
     },
     "metadata": {},
     "execution_count": 15
    }
   ],
   "source": [
    "intervals = [[1,2], [1,4], [3,4]]\n",
    "solution.removeCoveredIntervals(intervals)"
   ]
  }
 ]
}