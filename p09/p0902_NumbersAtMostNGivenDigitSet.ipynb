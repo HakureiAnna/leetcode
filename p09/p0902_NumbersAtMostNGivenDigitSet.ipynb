{
 "metadata": {
  "language_info": {
   "codemirror_mode": {
    "name": "ipython",
    "version": 3
   },
   "file_extension": ".py",
   "mimetype": "text/x-python",
   "name": "python",
   "nbconvert_exporter": "python",
   "pygments_lexer": "ipython3",
   "version": "3.8.6-candidate"
  },
  "orig_nbformat": 2,
  "kernelspec": {
   "name": "python3",
   "display_name": "Python 3.8.6 64-bit",
   "metadata": {
    "interpreter": {
     "hash": "2a80cafe02b4a68da2dc5344b52b71726d103bf40eaffc1fd8fc8f246e1d994a"
    }
   }
  }
 },
 "nbformat": 4,
 "nbformat_minor": 2,
 "cells": [
  {
   "cell_type": "code",
   "execution_count": 1,
   "metadata": {},
   "outputs": [],
   "source": [
    "\n",
    "class Solution:\n",
    "    def atMostNGivenDigitSet(self, digits, n):\n",
    "        sn = str(n)\n",
    "        ln = len(sn)\n",
    "        digits = [int(digit) for digit in digits]\n",
    "        count = 0\n",
    "        ld = len(digits)\n",
    "        for i in range(1, ln):\n",
    "            count += ld ** i\n",
    "            \n",
    "        for i, d in enumerate(sn):\n",
    "            di = int(d)\n",
    "            curr = sum([digit < di for digit in digits])\n",
    "            count += curr * ld ** (ln - i - 1)\n",
    "            if di not in digits:\n",
    "                break\n",
    "            if i == ln - 1:\n",
    "                count += 1\n",
    "        return count\n",
    "\n",
    "solution = Solution()"
   ]
  },
  {
   "cell_type": "code",
   "execution_count": 6,
   "metadata": {},
   "outputs": [
    {
     "output_type": "execute_result",
     "data": {
      "text/plain": [
       "20"
      ]
     },
     "metadata": {},
     "execution_count": 6
    }
   ],
   "source": [
    "digits = [\"1\",\"3\",\"5\",\"7\"]\n",
    "n = 100\n",
    "solution.atMostNGivenDigitSet(digits, n)"
   ]
  },
  {
   "cell_type": "code",
   "execution_count": 5,
   "metadata": {},
   "outputs": [
    {
     "output_type": "execute_result",
     "data": {
      "text/plain": [
       "29523"
      ]
     },
     "metadata": {},
     "execution_count": 5
    }
   ],
   "source": [
    "digits = [\"1\",\"4\",\"9\"]\n",
    "n = 1000000000\n",
    "solution.atMostNGivenDigitSet(digits, n)"
   ]
  },
  {
   "cell_type": "code",
   "execution_count": 4,
   "metadata": {},
   "outputs": [
    {
     "output_type": "execute_result",
     "data": {
      "text/plain": [
       "1"
      ]
     },
     "metadata": {},
     "execution_count": 4
    }
   ],
   "source": [
    "digits = [\"7\"]\n",
    "n = 8\n",
    "solution.atMostNGivenDigitSet(digits, n)"
   ]
  }
 ]
}