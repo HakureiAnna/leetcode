{
 "metadata": {
  "language_info": {
   "codemirror_mode": {
    "name": "ipython",
    "version": 3
   },
   "file_extension": ".py",
   "mimetype": "text/x-python",
   "name": "python",
   "nbconvert_exporter": "python",
   "pygments_lexer": "ipython3",
   "version": "3.8.6-candidate"
  },
  "orig_nbformat": 2,
  "kernelspec": {
   "name": "Python 3.8.6 64-bit",
   "display_name": "Python 3.8.6 64-bit",
   "metadata": {
    "interpreter": {
     "hash": "2a80cafe02b4a68da2dc5344b52b71726d103bf40eaffc1fd8fc8f246e1d994a"
    }
   }
  }
 },
 "nbformat": 4,
 "nbformat_minor": 2,
 "cells": [
  {
   "cell_type": "code",
   "execution_count": 5,
   "metadata": {},
   "outputs": [],
   "source": [
    "class Solution:\n",
    "    def bagOfTokensScore(self, tokens, P):\n",
    "        tokens = sorted(tokens)\n",
    "        score = 0\n",
    "        end = len(tokens)-1\n",
    "        start = 0\n",
    "        while end - start >= 0:\n",
    "            if tokens[start] > P:\n",
    "                if score == 0:\n",
    "                    break\n",
    "                elif end - start + 1 == 1:\n",
    "                    break\n",
    "                else:\n",
    "                    P += tokens[end]\n",
    "                    end -= 1\n",
    "                    score -= 1\n",
    "            else:\n",
    "                while end - start >=0 and tokens[start] <= P:\n",
    "                    score += 1\n",
    "                    P -= tokens[start]\n",
    "                    start += 1\n",
    "        return score\n",
    "\n",
    "solution = Solution()"
   ]
  },
  {
   "cell_type": "code",
   "execution_count": 6,
   "metadata": {},
   "outputs": [
    {
     "output_type": "execute_result",
     "data": {
      "text/plain": [
       "0"
      ]
     },
     "metadata": {},
     "execution_count": 6
    }
   ],
   "source": [
    "tokens = [100]\n",
    "P = 50\n",
    "solution.bagOfTokensScore(tokens, P)"
   ]
  },
  {
   "cell_type": "code",
   "execution_count": 4,
   "metadata": {},
   "outputs": [
    {
     "output_type": "execute_result",
     "data": {
      "text/plain": [
       "1"
      ]
     },
     "metadata": {},
     "execution_count": 4
    }
   ],
   "source": [
    "tokens = [100, 200]\n",
    "P = 150\n",
    "solution.bagOfTokensScore(tokens, P)"
   ]
  },
  {
   "cell_type": "code",
   "execution_count": 8,
   "metadata": {},
   "outputs": [
    {
     "output_type": "execute_result",
     "data": {
      "text/plain": [
       "2"
      ]
     },
     "metadata": {},
     "execution_count": 8
    }
   ],
   "source": [
    "tokens = [100,200,300,400]\n",
    "P = 200\n",
    "solution.bagOfTokensScore(tokens, P)"
   ]
  }
 ]
}