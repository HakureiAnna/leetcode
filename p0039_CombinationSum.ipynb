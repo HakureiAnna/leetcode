{
 "metadata": {
  "language_info": {
   "codemirror_mode": {
    "name": "ipython",
    "version": 3
   },
   "file_extension": ".py",
   "mimetype": "text/x-python",
   "name": "python",
   "nbconvert_exporter": "python",
   "pygments_lexer": "ipython3",
   "version": "3.8.6-candidate"
  },
  "orig_nbformat": 2,
  "kernelspec": {
   "name": "Python 3.8.6 64-bit",
   "display_name": "Python 3.8.6 64-bit",
   "metadata": {
    "interpreter": {
     "hash": "2a80cafe02b4a68da2dc5344b52b71726d103bf40eaffc1fd8fc8f246e1d994a"
    }
   }
  }
 },
 "nbformat": 4,
 "nbformat_minor": 2,
 "cells": [
  {
   "cell_type": "code",
   "execution_count": 1,
   "metadata": {},
   "outputs": [],
   "source": [
    "class Solution:\n",
    "    def combinationSum(self, candidates, target):\n",
    "        self.result = []\n",
    "        \n",
    "        self.traverse(0, 0, [], candidates, target)\n",
    "        \n",
    "        return self.result\n",
    "        \n",
    "    def traverse(self, i, curr, lst, candidates, target):\n",
    "        if curr > target:\n",
    "            return\n",
    "        elif curr == target:\n",
    "            self.result.append(lst)\n",
    "        for j in range(i, len(candidates)):\n",
    "            self.traverse(j, curr+candidates[j], lst+[candidates[j]], candidates, target)\n",
    "\n",
    "solution = Solution()"
   ]
  },
  {
   "cell_type": "code",
   "execution_count": 7,
   "metadata": {},
   "outputs": [
    {
     "output_type": "execute_result",
     "data": {
      "text/plain": "[[2, 2, 3], [7]]"
     },
     "metadata": {},
     "execution_count": 7
    }
   ],
   "source": [
    "candidates = [2, 3, 6, 7]\n",
    "target = 7\n",
    "solution.combinationSum(candidates, target)"
   ]
  },
  {
   "cell_type": "code",
   "execution_count": 8,
   "metadata": {},
   "outputs": [
    {
     "output_type": "execute_result",
     "data": {
      "text/plain": "[[2, 2, 2, 2], [2, 3, 3], [3, 5]]"
     },
     "metadata": {},
     "execution_count": 8
    }
   ],
   "source": [
    "candidates = [2, 3, 5]\n",
    "target = 8\n",
    "solution.combinationSum(candidates, target)"
   ]
  },
  {
   "cell_type": "code",
   "execution_count": 9,
   "metadata": {},
   "outputs": [
    {
     "output_type": "execute_result",
     "data": {
      "text/plain": "[]"
     },
     "metadata": {},
     "execution_count": 9
    }
   ],
   "source": [
    "candidates = [2]\n",
    "target = 1\n",
    "solution.combinationSum(candidates, target)"
   ]
  },
  {
   "cell_type": "code",
   "execution_count": 10,
   "metadata": {},
   "outputs": [
    {
     "output_type": "execute_result",
     "data": {
      "text/plain": "[[1]]"
     },
     "metadata": {},
     "execution_count": 10
    }
   ],
   "source": [
    "candidates = [1]\n",
    "target = 1\n",
    "solution.combinationSum(candidates, target)"
   ]
  },
  {
   "cell_type": "code",
   "execution_count": 11,
   "metadata": {},
   "outputs": [
    {
     "output_type": "execute_result",
     "data": {
      "text/plain": "[[1, 1]]"
     },
     "metadata": {},
     "execution_count": 11
    }
   ],
   "source": [
    "candidates = [1]\n",
    "target = 2\n",
    "solution.combinationSum(candidates, target)"
   ]
  }
 ]
}