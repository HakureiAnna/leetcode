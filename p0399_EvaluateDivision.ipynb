{
 "metadata": {
  "language_info": {
   "codemirror_mode": {
    "name": "ipython",
    "version": 3
   },
   "file_extension": ".py",
   "mimetype": "text/x-python",
   "name": "python",
   "nbconvert_exporter": "python",
   "pygments_lexer": "ipython3",
   "version": "3.8.6-candidate"
  },
  "orig_nbformat": 2,
  "kernelspec": {
   "name": "Python 3.8.6 64-bit",
   "display_name": "Python 3.8.6 64-bit",
   "metadata": {
    "interpreter": {
     "hash": "2a80cafe02b4a68da2dc5344b52b71726d103bf40eaffc1fd8fc8f246e1d994a"
    }
   }
  }
 },
 "nbformat": 4,
 "nbformat_minor": 2,
 "cells": [
  {
   "cell_type": "code",
   "execution_count": 68,
   "metadata": {},
   "outputs": [],
   "source": [
    "class Solution:\n",
    "    def calcEquation(self, equations, values, queries):\n",
    "        self.graph = {}\n",
    "        self.seen = {}\n",
    "        for i in range(len(equations)):\n",
    "            a = equations[i][0]\n",
    "            b = equations[i][1]\n",
    "            self.seen[a] = False\n",
    "            self.seen[b] = False\n",
    "\n",
    "            if a not in self.graph:\n",
    "                self.graph[a] = {}\n",
    "            self.graph[a][b] = values[i]\n",
    "            if b not in self.graph:\n",
    "                self.graph[b] = {}\n",
    "            self.graph[b][a] = 1/values[i]\n",
    "\n",
    "        result = []\n",
    "        for query in queries:\n",
    "            if query[0] not in self.graph or query[1] not in self.graph:\n",
    "                res = -1.0\n",
    "            else:\n",
    "                for node in self.seen:\n",
    "                    self.seen[node] = False\n",
    "                res = self.dfs(query[0], query[1])\n",
    "            result.append(res)\n",
    "        return result\n",
    "\n",
    "\n",
    "    def dfs(self, a, b):\n",
    "        if a == b:\n",
    "            return 1.0\n",
    "        if self.seen[a]:\n",
    "            return -1.0\n",
    "        self.seen[a] = True\n",
    "        for node in self.graph[a]:\n",
    "            target = self.dfs(node, b)\n",
    "            if target != -1.0:\n",
    "                return self.graph[a][node] * target\n",
    "        return -1\n",
    "\n",
    "solution = Solution()"
   ]
  },
  {
   "cell_type": "code",
   "execution_count": 66,
   "metadata": {
    "tags": []
   },
   "outputs": [
    {
     "output_type": "execute_result",
     "data": {
      "text/plain": "[6.0, 0.5, -1.0, 1.0, -1.0]"
     },
     "metadata": {},
     "execution_count": 66
    }
   ],
   "source": [
    "equations = [['a', 'b'], ['b', 'c']]\n",
    "values = [2.0, 3.0]\n",
    "queries = [['a', 'c'], ['b', 'a'], ['a', 'e'], ['a', 'a'], ['x', 'x']]\n",
    "\n",
    "solution.calcEquation(equations, values, queries)"
   ]
  },
  {
   "cell_type": "code",
   "execution_count": 70,
   "metadata": {},
   "outputs": [
    {
     "output_type": "execute_result",
     "data": {
      "text/plain": "[3.75, 0.4, 5.0, 0.2]"
     },
     "metadata": {},
     "execution_count": 70
    }
   ],
   "source": [
    "equations = [[\"a\",\"b\"],[\"b\",\"c\"],[\"bc\",\"cd\"]]\n",
    "values = [1.5,2.5,5.0]\n",
    "queries = [[\"a\",\"c\"],[\"c\",\"b\"],[\"bc\",\"cd\"],[\"cd\",\"bc\"]]\n",
    "\n",
    "solution.calcEquation(equations, values, queries)"
   ]
  },
  {
   "cell_type": "code",
   "execution_count": 71,
   "metadata": {},
   "outputs": [
    {
     "output_type": "execute_result",
     "data": {
      "text/plain": "[0.5, 2.0, -1.0, -1.0]"
     },
     "metadata": {},
     "execution_count": 71
    }
   ],
   "source": [
    "equations = [[\"a\",\"b\"]]\n",
    "values = [0.5]\n",
    "queries = [[\"a\",\"b\"],[\"b\",\"a\"],[\"a\",\"c\"],[\"x\",\"y\"]]\n",
    "\n",
    "solution.calcEquation(equations, values, queries)"
   ]
  }
 ]
}