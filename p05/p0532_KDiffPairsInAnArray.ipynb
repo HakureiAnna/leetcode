{
 "metadata": {
  "language_info": {
   "codemirror_mode": {
    "name": "ipython",
    "version": 3
   },
   "file_extension": ".py",
   "mimetype": "text/x-python",
   "name": "python",
   "nbconvert_exporter": "python",
   "pygments_lexer": "ipython3",
   "version": "3.8.6-candidate"
  },
  "orig_nbformat": 2,
  "kernelspec": {
   "name": "Python 3.8.6 64-bit",
   "display_name": "Python 3.8.6 64-bit",
   "metadata": {
    "interpreter": {
     "hash": "2a80cafe02b4a68da2dc5344b52b71726d103bf40eaffc1fd8fc8f246e1d994a"
    }
   }
  }
 },
 "nbformat": 4,
 "nbformat_minor": 2,
 "cells": [
  {
   "cell_type": "code",
   "execution_count": 15,
   "metadata": {},
   "outputs": [],
   "source": [
    "class Solution:\n",
    "    def findPairs(self, nums, k):\n",
    "        nums = sorted(nums)\n",
    "        count = 0\n",
    "        lut = {}\n",
    "        for num in nums:\n",
    "            if k > 0 and num in lut and lut[num] >= 1:\n",
    "                continue\n",
    "            if k == 0 and num in lut and lut[num] >= 2:\n",
    "                continue\n",
    "            count += 1 if num - k in lut and lut[num-k] > 0 else 0\n",
    "            if num not in lut:\n",
    "                lut[num] = 0\n",
    "            lut[num] += 1\n",
    "        return count\n",
    "\n",
    "solution = Solution()"
   ]
  },
  {
   "cell_type": "code",
   "execution_count": 16,
   "metadata": {},
   "outputs": [
    {
     "output_type": "execute_result",
     "data": {
      "text/plain": "2"
     },
     "metadata": {},
     "execution_count": 16
    }
   ],
   "source": [
    "nums = [3, 1, 4, 1, 5]\n",
    "k = 2\n",
    "solution.findPairs(nums, k)"
   ]
  },
  {
   "cell_type": "code",
   "execution_count": 17,
   "metadata": {},
   "outputs": [
    {
     "output_type": "execute_result",
     "data": {
      "text/plain": "4"
     },
     "metadata": {},
     "execution_count": 17
    }
   ],
   "source": [
    "nums = [1, 2, 3, 4, 5]\n",
    "k = 1\n",
    "solution.findPairs(nums, k)"
   ]
  },
  {
   "cell_type": "code",
   "execution_count": 18,
   "metadata": {},
   "outputs": [
    {
     "output_type": "execute_result",
     "data": {
      "text/plain": "1"
     },
     "metadata": {},
     "execution_count": 18
    }
   ],
   "source": [
    "nums = [1, 3, 1, 5, 4]\n",
    "k = 0\n",
    "solution.findPairs(nums, k)"
   ]
  },
  {
   "cell_type": "code",
   "execution_count": 19,
   "metadata": {},
   "outputs": [
    {
     "output_type": "execute_result",
     "data": {
      "text/plain": "2"
     },
     "metadata": {},
     "execution_count": 19
    }
   ],
   "source": [
    "nums = [1, 2, 4, 4, 3, 3, 0, 9, 2, 3]\n",
    "k =3\n",
    "solution.findPairs(nums, k)"
   ]
  },
  {
   "cell_type": "code",
   "execution_count": 20,
   "metadata": {},
   "outputs": [
    {
     "output_type": "execute_result",
     "data": {
      "text/plain": "2"
     },
     "metadata": {},
     "execution_count": 20
    }
   ],
   "source": [
    "nums = [-1, -2, -3]\n",
    "k =1\n",
    "solution.findPairs(nums, k)"
   ]
  }
 ]
}