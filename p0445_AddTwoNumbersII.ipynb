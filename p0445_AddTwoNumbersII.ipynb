{
 "metadata": {
  "language_info": {
   "codemirror_mode": {
    "name": "ipython",
    "version": 3
   },
   "file_extension": ".py",
   "mimetype": "text/x-python",
   "name": "python",
   "nbconvert_exporter": "python",
   "pygments_lexer": "ipython3",
   "version": "3.8.6-candidate"
  },
  "orig_nbformat": 2,
  "kernelspec": {
   "name": "Python 3.8.6 64-bit",
   "display_name": "Python 3.8.6 64-bit",
   "metadata": {
    "interpreter": {
     "hash": "2a80cafe02b4a68da2dc5344b52b71726d103bf40eaffc1fd8fc8f246e1d994a"
    }
   }
  }
 },
 "nbformat": 4,
 "nbformat_minor": 2,
 "cells": [
  {
   "cell_type": "code",
   "execution_count": 1,
   "metadata": {},
   "outputs": [],
   "source": [
    "from collections import deque\n",
    "\n",
    "class ListNode:\n",
    "    def __init__(self, val=0, next=None):\n",
    "        self.val = val\n",
    "        self.next = next\n",
    "\n",
    "class Solution:\n",
    "    def addTwoNumbers(self, l1, l2):\n",
    "        a = deque()\n",
    "        b = deque()\n",
    "        node = l1\n",
    "        while node is not None:\n",
    "            a.append(node.val)\n",
    "            node = node.next\n",
    "        node = l2\n",
    "        while node is not None:\n",
    "            b.append(node.val)\n",
    "            node = node.next\n",
    "        prev = None\n",
    "        c = 0\n",
    "        while len(a) > 0 or len(b) > 0:\n",
    "            x = a.pop() if len(a) > 0 else 0\n",
    "            y = b.pop() if len(b) > 0 else 0\n",
    "            s = x + y + c\n",
    "            c = s // 10\n",
    "            s = s % 10\n",
    "            curr = ListNode(s, prev)\n",
    "            prev = curr\n",
    "        if c > 0:\n",
    "            curr = ListNode(c, prev)\n",
    "        return curr\n",
    "                \n",
    "solution = Solution()"
   ]
  },
  {
   "cell_type": "code",
   "execution_count": null,
   "metadata": {},
   "outputs": [],
   "source": [
    "l1 = [7, 2, 4, 3]\n",
    "l2 = [5, 6, 4]\n",
    "solution.addTwoNumbers(l1, l2)"
   ]
  }
 ]
}