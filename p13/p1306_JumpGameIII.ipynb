{
 "metadata": {
  "language_info": {
   "codemirror_mode": {
    "name": "ipython",
    "version": 3
   },
   "file_extension": ".py",
   "mimetype": "text/x-python",
   "name": "python",
   "nbconvert_exporter": "python",
   "pygments_lexer": "ipython3",
   "version": "3.8.6-candidate"
  },
  "orig_nbformat": 2,
  "kernelspec": {
   "name": "python3",
   "display_name": "Python 3.8.6 64-bit",
   "metadata": {
    "interpreter": {
     "hash": "2a80cafe02b4a68da2dc5344b52b71726d103bf40eaffc1fd8fc8f246e1d994a"
    }
   }
  }
 },
 "nbformat": 4,
 "nbformat_minor": 2,
 "cells": [
  {
   "cell_type": "code",
   "execution_count": 1,
   "metadata": {},
   "outputs": [],
   "source": [
    "from collections import deque\n",
    "\n",
    "class Solution:\n",
    "    def canReach(self, arr, start):\n",
    "        visited = set()\n",
    "        tovisit = deque()\n",
    "        n = len(arr)\n",
    "        tovisit.append(start)\n",
    "        while len(tovisit) > 0:\n",
    "            curr = tovisit.popleft()\n",
    "            if arr[curr] == 0:\n",
    "                return True            \n",
    "            visited.add(curr)\n",
    "            left = curr - arr[curr]\n",
    "            if left >= 0 and left not in visited:\n",
    "                tovisit.append(left)\n",
    "            right = curr + arr[curr]\n",
    "            if right < n and right not in visited:\n",
    "                tovisit.append(right)\n",
    "        return False\n",
    "            \n",
    "solution = Solution()"
   ]
  },
  {
   "cell_type": "code",
   "execution_count": 3,
   "metadata": {},
   "outputs": [
    {
     "output_type": "execute_result",
     "data": {
      "text/plain": [
       "True"
      ]
     },
     "metadata": {},
     "execution_count": 3
    }
   ],
   "source": [
    "arr = [4, 2, 3, 0, 3, 1, 2]\n",
    "start = 5\n",
    "solution.canReach(arr, start)"
   ]
  },
  {
   "cell_type": "code",
   "execution_count": 4,
   "metadata": {},
   "outputs": [
    {
     "output_type": "execute_result",
     "data": {
      "text/plain": [
       "True"
      ]
     },
     "metadata": {},
     "execution_count": 4
    }
   ],
   "source": [
    "arr = [4, 2, 3, 0, 3, 1, 2]\n",
    "start = 0\n",
    "solution.canReach(arr, start)"
   ]
  },
  {
   "cell_type": "code",
   "execution_count": 5,
   "metadata": {},
   "outputs": [
    {
     "output_type": "execute_result",
     "data": {
      "text/plain": [
       "False"
      ]
     },
     "metadata": {},
     "execution_count": 5
    }
   ],
   "source": [
    "arr = [3, 0, 2, 1, 2]\n",
    "start = 2\n",
    "solution.canReach(arr, start)"
   ]
  }
 ]
}