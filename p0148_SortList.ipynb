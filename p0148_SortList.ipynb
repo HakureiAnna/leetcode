{
 "metadata": {
  "language_info": {
   "codemirror_mode": {
    "name": "ipython",
    "version": 3
   },
   "file_extension": ".py",
   "mimetype": "text/x-python",
   "name": "python",
   "nbconvert_exporter": "python",
   "pygments_lexer": "ipython3",
   "version": "3.8.6-candidate"
  },
  "orig_nbformat": 2,
  "kernelspec": {
   "name": "Python 3.8.6 64-bit",
   "display_name": "Python 3.8.6 64-bit",
   "metadata": {
    "interpreter": {
     "hash": "2a80cafe02b4a68da2dc5344b52b71726d103bf40eaffc1fd8fc8f246e1d994a"
    }
   }
  }
 },
 "nbformat": 4,
 "nbformat_minor": 2,
 "cells": [
  {
   "cell_type": "code",
   "execution_count": 42,
   "metadata": {},
   "outputs": [],
   "source": [
    "# Definition for singly-linked list.\n",
    "# class ListNode:\n",
    "#     def __init__(self, val=0, next=None):\n",
    "#         self.val = val\n",
    "#         self.next = next\n",
    "class Solution:\n",
    "    def sortList(self, head):\n",
    "        if head is None or head.next is None:\n",
    "            return head\n",
    "        \n",
    "        mid = None\n",
    "        if head is None:\n",
    "            mid = None\n",
    "        pew = head\n",
    "        pewPew = head\n",
    "        while pewPew.next is not None and pewPew.next.next is not None:\n",
    "            pew = pew.next\n",
    "            pewPew = pewPew.next.next\n",
    "        mid = pew\n",
    "        \n",
    "        rightStart = mid.next\n",
    "        mid.next = None\n",
    "        left = self.sortList(head)\n",
    "        right = self.sortList(rightStart)\n",
    "        \n",
    "        sortedList = self.mergeSorted(left, right)\n",
    "        return sortedList\n",
    "        \n",
    "    def mergeSorted(self, left, right):\n",
    "        result = None\n",
    "        \n",
    "        if left == None:\n",
    "            return right\n",
    "        if right== None:\n",
    "            return left\n",
    "        \n",
    "        if left.val <= right.val:\n",
    "            result = left\n",
    "            result.next = self.mergeSorted(left.next, right)\n",
    "        else:\n",
    "            result = right\n",
    "            result.next = self.mergeSorted(left, right.next)\n",
    "            \n",
    "        return result\n",
    "    \n",
    "class Node:\n",
    "    def __init__(self, val):\n",
    "        self.val = val\n",
    "        self.next = None\n",
    "    \n",
    "    def append(self, val):\n",
    "        self.next = Node(val)\n",
    "\n",
    "class LinkedList:\n",
    "    def __init__(self, vals):\n",
    "        self.head = None\n",
    "        if len(vals) == 0:\n",
    "            return\n",
    "        self.head = Node(vals[0])\n",
    "        curr = self.head\n",
    "        for i in range(1, len(vals)):\n",
    "            curr.append(vals[i])\n",
    "            curr = curr.next\n",
    "    \n",
    "    def __iter__(self):\n",
    "        curr = self.head\n",
    "        while curr is not None:\n",
    "            yield curr.val\n",
    "            curr = curr.next\n",
    "    \n",
    "    def __str__(self):\n",
    "        return ','.join(map(str, self))\n",
    "\n",
    "solution = Solution()      "
   ]
  },
  {
   "cell_type": "code",
   "execution_count": 40,
   "metadata": {},
   "outputs": [
    {
     "output_type": "stream",
     "name": "stdout",
     "text": [
      "-1,0,3,4,5\n"
     ]
    }
   ],
   "source": [
    "vals = [-1, 5, 3, 4, 0]\n",
    "lst = LinkedList(vals)\n",
    "lst.head = solution.sortList(lst.head)\n",
    "print(lst)"
   ]
  },
  {
   "cell_type": "code",
   "execution_count": 43,
   "metadata": {},
   "outputs": [
    {
     "output_type": "stream",
     "name": "stdout",
     "text": [
      "\n"
     ]
    }
   ],
   "source": [
    "vals = []\n",
    "lst = LinkedList(vals)\n",
    "lst.head = solution.sortList(lst.head)\n",
    "print(lst)"
   ]
  }
 ]
}