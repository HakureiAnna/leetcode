{
 "metadata": {
  "language_info": {
   "codemirror_mode": {
    "name": "ipython",
    "version": 3
   },
   "file_extension": ".py",
   "mimetype": "text/x-python",
   "name": "python",
   "nbconvert_exporter": "python",
   "pygments_lexer": "ipython3",
   "version": "3.8.6-candidate"
  },
  "orig_nbformat": 2,
  "kernelspec": {
   "name": "Python 3.8.6 64-bit",
   "display_name": "Python 3.8.6 64-bit",
   "metadata": {
    "interpreter": {
     "hash": "2a80cafe02b4a68da2dc5344b52b71726d103bf40eaffc1fd8fc8f246e1d994a"
    }
   }
  }
 },
 "nbformat": 4,
 "nbformat_minor": 2,
 "cells": [
  {
   "cell_type": "code",
   "execution_count": 25,
   "metadata": {},
   "outputs": [],
   "source": [
    "from collections import deque\n",
    "# Definition for a binary tree node.\n",
    "class TreeNode:\n",
    "    def __init__(self, x):\n",
    "        self.val = x\n",
    "        self.left = None\n",
    "        self.right = None\n",
    "\n",
    "class Codec:\n",
    "    def serialize(self, root):\n",
    "        \"\"\"Encodes a tree to a single string.\n",
    "        \"\"\"\n",
    "        vals = []\n",
    "        self.preorder(root, vals)\n",
    "        return ','.join(vals)\n",
    "        \n",
    "    def preorder(self, root, vals):\n",
    "        if root is not None:\n",
    "            vals.append(str(root.val))\n",
    "            self.preorder(root.left, vals)\n",
    "            self.preorder(root.right, vals)\n",
    "        \n",
    "    def deserialize(self, data):\n",
    "        \"\"\"Decodes your encoded data to tree.\n",
    "        \"\"\"\n",
    "        minVal = -float('inf')\n",
    "        maxVal = float('inf')\n",
    "        \n",
    "        if len(data) == 0:\n",
    "            return None\n",
    "        dataVals = data.split(',')\n",
    "        vals = deque([int(val) for val in dataVals])\n",
    "        root = self.traverse(vals, minVal, maxVal)\n",
    "        return root\n",
    "        \n",
    "    def traverse(self, vals, minVal, maxVal):\n",
    "        if vals and minVal < vals[0]  and vals[0] < maxVal:\n",
    "            val = vals.popleft()\n",
    "            root = TreeNode(val)\n",
    "            root.left = self.traverse(vals, minVal, val)\n",
    "            root.right = self.traverse(vals, val, maxVal)\n",
    "            return root\n",
    "        return None\n",
    "\n",
    "codec = Codec()"
   ]
  },
  {
   "cell_type": "code",
   "execution_count": 26,
   "metadata": {},
   "outputs": [
    {
     "output_type": "execute_result",
     "data": {
      "text/plain": "&#39;2,1,3&#39;"
     },
     "metadata": {},
     "execution_count": 26
    }
   ],
   "source": [
    "data = '2,1,3'\n",
    "root = codec.deserialize(data)\n",
    "codec.serialize(root)"
   ]
  },
  {
   "cell_type": "code",
   "execution_count": 27,
   "metadata": {},
   "outputs": [
    {
     "output_type": "execute_result",
     "data": {
      "text/plain": "&#39;&#39;"
     },
     "metadata": {},
     "execution_count": 27
    }
   ],
   "source": [
    "data = ''\n",
    "root = codec.deserialize(data)\n",
    "codec.serialize(root)"
   ]
  }
 ]
}