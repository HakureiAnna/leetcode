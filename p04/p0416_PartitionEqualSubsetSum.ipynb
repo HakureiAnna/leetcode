{
 "metadata": {
  "language_info": {
   "codemirror_mode": {
    "name": "ipython",
    "version": 3
   },
   "file_extension": ".py",
   "mimetype": "text/x-python",
   "name": "python",
   "nbconvert_exporter": "python",
   "pygments_lexer": "ipython3",
   "version": "3.8.6-candidate"
  },
  "orig_nbformat": 2,
  "kernelspec": {
   "name": "python3",
   "display_name": "Python 3.8.6 64-bit",
   "metadata": {
    "interpreter": {
     "hash": "2a80cafe02b4a68da2dc5344b52b71726d103bf40eaffc1fd8fc8f246e1d994a"
    }
   }
  }
 },
 "nbformat": 4,
 "nbformat_minor": 2,
 "cells": [
  {
   "cell_type": "code",
   "execution_count": 3,
   "metadata": {},
   "outputs": [],
   "source": [
    "class Solution:\n",
    "    def canPartition(self, nums):\n",
    "        s = sum(nums)\n",
    "        if s % 2 == 1:\n",
    "            return False\n",
    "        hSum = s // 2\n",
    "        possible = [False] * (hSum + 1)\n",
    "        possible[0] = True\n",
    "        for num in nums:\n",
    "            i = hSum\n",
    "            while i >= num:\n",
    "                possible[i] = possible[i] or possible[i-num]\n",
    "                i -= 1\n",
    "        return possible[hSum]\n",
    "solution = Solution()"
   ]
  },
  {
   "cell_type": "code",
   "execution_count": 4,
   "metadata": {},
   "outputs": [
    {
     "output_type": "execute_result",
     "data": {
      "text/plain": [
       "True"
      ]
     },
     "metadata": {},
     "execution_count": 4
    }
   ],
   "source": [
    "nums = [1, 5, 11, 5]\n",
    "solution.canPartition(nums)"
   ]
  },
  {
   "cell_type": "code",
   "execution_count": 5,
   "metadata": {},
   "outputs": [
    {
     "output_type": "execute_result",
     "data": {
      "text/plain": [
       "False"
      ]
     },
     "metadata": {},
     "execution_count": 5
    }
   ],
   "source": [
    "nums = [1, 2, 3, 5]\n",
    "solution.canPartition(nums)"
   ]
  }
 ]
}