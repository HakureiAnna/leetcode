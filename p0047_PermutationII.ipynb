{
 "metadata": {
  "language_info": {
   "codemirror_mode": {
    "name": "ipython",
    "version": 3
   },
   "file_extension": ".py",
   "mimetype": "text/x-python",
   "name": "python",
   "nbconvert_exporter": "python",
   "pygments_lexer": "ipython3",
   "version": "3.8.6-candidate"
  },
  "orig_nbformat": 2,
  "kernelspec": {
   "name": "Python 3.8.6 64-bit",
   "display_name": "Python 3.8.6 64-bit",
   "metadata": {
    "interpreter": {
     "hash": "2a80cafe02b4a68da2dc5344b52b71726d103bf40eaffc1fd8fc8f246e1d994a"
    }
   }
  }
 },
 "nbformat": 4,
 "nbformat_minor": 2,
 "cells": [
  {
   "cell_type": "code",
   "execution_count": 2,
   "metadata": {},
   "outputs": [],
   "source": [
    "from collections import deque\n",
    "\n",
    "class Solution:\n",
    "    def permuteUnique(self, nums):\n",
    "        self.result = set()\n",
    "        unused = deque()\n",
    "        for i in range(len(nums)):\n",
    "            unused.append(i)\n",
    "        \n",
    "        self.traverse(nums, len(nums), unused, deque(), deque())\n",
    "        return list(self.result)\n",
    "        \n",
    "    def traverse(self, nums, n, unused, indices, seq):\n",
    "        if n == 0:\n",
    "            self.result.add(tuple(seq))\n",
    "            return\n",
    "        N = len(unused)\n",
    "        i = 0\n",
    "        while i < N:\n",
    "            j = unused.popleft()\n",
    "            if j in indices:\n",
    "                unused.append(j)\n",
    "                continue\n",
    "            newUnused = unused.copy()\n",
    "            newIndices = indices.copy()\n",
    "            newSeq = seq.copy()\n",
    "            newIndices.append(j)\n",
    "            newSeq.append(nums[j])\n",
    "            self.traverse(nums, n-1, unused, newIndices, newSeq)\n",
    "            unused.append(j)\n",
    "            i += 1\n",
    "            \n",
    "solution = Solution()"
   ]
  },
  {
   "cell_type": "code",
   "execution_count": 3,
   "metadata": {},
   "outputs": [
    {
     "output_type": "execute_result",
     "data": {
      "text/plain": [
       "[(1, 2, 1), (2, 1, 1), (1, 1, 2)]"
      ]
     },
     "metadata": {},
     "execution_count": 3
    }
   ],
   "source": [
    "nums = [1, 1, 2]\n",
    "solution.permuteUnique(nums)"
   ]
  },
  {
   "cell_type": "code",
   "execution_count": 4,
   "metadata": {},
   "outputs": [
    {
     "output_type": "execute_result",
     "data": {
      "text/plain": [
       "[(1, 3, 2), (1, 2, 3), (2, 1, 3), (3, 2, 1), (3, 1, 2), (2, 3, 1)]"
      ]
     },
     "metadata": {},
     "execution_count": 4
    }
   ],
   "source": [
    "nums = [1, 2, 3]\n",
    "solution.permuteUnique(nums)"
   ]
  }
 ]
}