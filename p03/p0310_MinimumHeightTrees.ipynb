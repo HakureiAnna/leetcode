{
 "metadata": {
  "language_info": {
   "codemirror_mode": {
    "name": "ipython",
    "version": 3
   },
   "file_extension": ".py",
   "mimetype": "text/x-python",
   "name": "python",
   "nbconvert_exporter": "python",
   "pygments_lexer": "ipython3",
   "version": "3.8.6-candidate"
  },
  "orig_nbformat": 2,
  "kernelspec": {
   "name": "Python 3.8.6 64-bit",
   "display_name": "Python 3.8.6 64-bit",
   "metadata": {
    "interpreter": {
     "hash": "2a80cafe02b4a68da2dc5344b52b71726d103bf40eaffc1fd8fc8f246e1d994a"
    }
   }
  }
 },
 "nbformat": 4,
 "nbformat_minor": 2,
 "cells": [
  {
   "cell_type": "code",
   "execution_count": 4,
   "metadata": {},
   "outputs": [],
   "source": [
    "from collections import deque\n",
    "\n",
    "class Solution:\n",
    "    def findMinHeightTrees(self, n, edges):\n",
    "        if n == 1:\n",
    "            return [0]\n",
    "        # create nodes\n",
    "        nodes = []\n",
    "        degrees = [0 for i in range(n)]\n",
    "        for i in range(n):\n",
    "            nodes.append(deque())\n",
    "        for edge in edges:\n",
    "            nodes[edge[0]].append(edge[1])\n",
    "            nodes[edge[1]].append(edge[0])\n",
    "            degrees[edge[0]] += 1\n",
    "            degrees[edge[1]] += 1\n",
    "            \n",
    "        leaves = deque()\n",
    "        for i in range(n):\n",
    "            if degrees[i] == 1:\n",
    "                leaves.append(i)\n",
    "        while n > 2:\n",
    "            size = len(leaves)\n",
    "            n -= size\n",
    "            for i in range(size):\n",
    "                leaf = leaves.popleft()\n",
    "                for neighbor in nodes[leaf]:\n",
    "                    nodes[neighbor].remove(leaf)\n",
    "                    degrees[neighbor] -= 1\n",
    "                    if degrees[neighbor]==1:\n",
    "                        leaves.append(neighbor)\n",
    "                degrees[leaf] = 0\n",
    "        return list(leaves)\n",
    "\n",
    "solution = Solution()                "
   ]
  },
  {
   "cell_type": "code",
   "execution_count": 10,
   "metadata": {},
   "outputs": [
    {
     "output_type": "stream",
     "name": "stdout",
     "text": [
      "1\n"
     ]
    },
    {
     "output_type": "execute_result",
     "data": {
      "text/plain": [
       "[1]"
      ]
     },
     "metadata": {},
     "execution_count": 10
    }
   ],
   "source": [
    "n = 4\n",
    "edges = [[1,0],[1,2],[1,3]]\n",
    "solution.findMinHeightTrees(n, edges)"
   ]
  },
  {
   "cell_type": "code",
   "execution_count": 11,
   "metadata": {},
   "outputs": [
    {
     "output_type": "stream",
     "name": "stdout",
     "text": [
      "2\n"
     ]
    },
    {
     "output_type": "execute_result",
     "data": {
      "text/plain": [
       "[3, 4]"
      ]
     },
     "metadata": {},
     "execution_count": 11
    }
   ],
   "source": [
    "n = 6\n",
    "edges = [[3,0],[3,1],[3,2],[3,4],[5,4]]\n",
    "solution.findMinHeightTrees(n, edges)"
   ]
  },
  {
   "cell_type": "code",
   "execution_count": 9,
   "metadata": {},
   "outputs": [
    {
     "output_type": "execute_result",
     "data": {
      "text/plain": [
       "[0]"
      ]
     },
     "metadata": {},
     "execution_count": 9
    }
   ],
   "source": [
    "n = 1\n",
    "edges = []\n",
    "solution.findMinHeightTrees(n, edges)"
   ]
  },
  {
   "cell_type": "code",
   "execution_count": null,
   "metadata": {},
   "outputs": [],
   "source": [
    "n = 2\n",
    "edges = [[0,1]]\n",
    "solution.findMinHeightTrees(n, edges)"
   ]
  }
 ]
}