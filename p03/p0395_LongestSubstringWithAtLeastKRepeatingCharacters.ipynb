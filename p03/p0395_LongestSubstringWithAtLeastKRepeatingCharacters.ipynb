{
 "metadata": {
  "language_info": {
   "codemirror_mode": {
    "name": "ipython",
    "version": 3
   },
   "file_extension": ".py",
   "mimetype": "text/x-python",
   "name": "python",
   "nbconvert_exporter": "python",
   "pygments_lexer": "ipython3",
   "version": "3.8.6-candidate"
  },
  "orig_nbformat": 2,
  "kernelspec": {
   "name": "python3",
   "display_name": "Python 3.8.6 64-bit",
   "metadata": {
    "interpreter": {
     "hash": "2a80cafe02b4a68da2dc5344b52b71726d103bf40eaffc1fd8fc8f246e1d994a"
    }
   }
  }
 },
 "nbformat": 4,
 "nbformat_minor": 2,
 "cells": [
  {
   "cell_type": "code",
   "execution_count": 4,
   "metadata": {},
   "outputs": [],
   "source": [
    "from collections import Counter\n",
    "\n",
    "class Solution:\n",
    "    def longestSubstring(self, s, k):\n",
    "        cnt = Counter(s)\n",
    "        invalid = set()\n",
    "        for ch in cnt:\n",
    "            if cnt[ch] < k:\n",
    "                invalid.add(ch)\n",
    "        if len(invalid) == 0:\n",
    "            return len(s)\n",
    "        s = list(s)\n",
    "        for i in range(len(s)):\n",
    "            if s[i] in invalid:\n",
    "                s[i] = ' '\n",
    "        s = ''.join(s)\n",
    "        ss = s.split()\n",
    "        if len(ss) == 0:\n",
    "            return 0\n",
    "        return max([self.longestSubstring(st, k) for st in ss])\n",
    "            \n",
    "solution = Solution()"
   ]
  },
  {
   "cell_type": "code",
   "execution_count": 5,
   "metadata": {},
   "outputs": [
    {
     "output_type": "execute_result",
     "data": {
      "text/plain": [
       "3"
      ]
     },
     "metadata": {},
     "execution_count": 5
    }
   ],
   "source": [
    "s = 'aaabb'\n",
    "k = 3\n",
    "solution.longestSubstring(s, k)"
   ]
  },
  {
   "cell_type": "code",
   "execution_count": 6,
   "metadata": {},
   "outputs": [
    {
     "output_type": "execute_result",
     "data": {
      "text/plain": [
       "5"
      ]
     },
     "metadata": {},
     "execution_count": 6
    }
   ],
   "source": [
    "s = 'ababbc'\n",
    "k = 2\n",
    "solution.longestSubstring(s, k)"
   ]
  },
  {
   "cell_type": "code",
   "execution_count": 7,
   "metadata": {},
   "outputs": [
    {
     "output_type": "execute_result",
     "data": {
      "text/plain": [
       "5"
      ]
     },
     "metadata": {},
     "execution_count": 7
    }
   ],
   "source": [
    "s = 'ababbc'\n",
    "k = 2\n",
    "solution.longestSubstring(s, k)"
   ]
  }
 ]
}