{
 "metadata": {
  "language_info": {
   "codemirror_mode": {
    "name": "ipython",
    "version": 3
   },
   "file_extension": ".py",
   "mimetype": "text/x-python",
   "name": "python",
   "nbconvert_exporter": "python",
   "pygments_lexer": "ipython3",
   "version": "3.8.6-candidate"
  },
  "orig_nbformat": 2,
  "kernelspec": {
   "name": "python3",
   "display_name": "Python 3.8.6 64-bit",
   "metadata": {
    "interpreter": {
     "hash": "2a80cafe02b4a68da2dc5344b52b71726d103bf40eaffc1fd8fc8f246e1d994a"
    }
   }
  }
 },
 "nbformat": 4,
 "nbformat_minor": 2,
 "cells": [
  {
   "cell_type": "code",
   "execution_count": 1,
   "metadata": {},
   "outputs": [],
   "source": [
    "from collections import deque\n",
    "class Solution:\n",
    "    def decodeString(self, s):\n",
    "        stack = deque()\n",
    "        currToken = ''\n",
    "        currNo = 0\n",
    "        for ch in s:\n",
    "            if ch == '[':\n",
    "                stack.append((currToken, currNo))\n",
    "                currToken = ''\n",
    "                currNo = 0\n",
    "            elif ch == ']':\n",
    "                prevToken, prevNo = stack.pop()\n",
    "                currToken = prevToken + currToken*prevNo\n",
    "            elif ch.isdigit():\n",
    "                currNo = currNo*10+int(ch)\n",
    "            else:\n",
    "                currToken += ch\n",
    "        return currToken\n",
    "solution = Solution()"
   ]
  },
  {
   "cell_type": "code",
   "execution_count": 2,
   "metadata": {},
   "outputs": [],
   "source": [
    "s = '3[a]2[bc]'\n",
    "solution.decodeString(s)"
   ]
  },
  {
   "cell_type": "code",
   "execution_count": 7,
   "metadata": {},
   "outputs": [
    {
     "output_type": "execute_result",
     "data": {
      "text/plain": [
       "'accaccacc'"
      ]
     },
     "metadata": {},
     "execution_count": 7
    }
   ],
   "source": [
    "s = '3[a2[c]]'\n",
    "solution.decodeString(s)"
   ]
  },
  {
   "cell_type": "code",
   "execution_count": 6,
   "metadata": {},
   "outputs": [
    {
     "output_type": "execute_result",
     "data": {
      "text/plain": [
       "'abcabccdcdcdef'"
      ]
     },
     "metadata": {},
     "execution_count": 6
    }
   ],
   "source": [
    "s = '2[abc]3[cd]ef'\n",
    "solution.decodeString(s)"
   ]
  },
  {
   "cell_type": "code",
   "execution_count": 5,
   "metadata": {},
   "outputs": [
    {
     "output_type": "execute_result",
     "data": {
      "text/plain": [
       "'abccdcdcdxyz'"
      ]
     },
     "metadata": {},
     "execution_count": 5
    }
   ],
   "source": [
    "s = 'abc3[cd]xyz'\n",
    "solution.decodeString(s)"
   ]
  }
 ]
}