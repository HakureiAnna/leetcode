{
 "metadata": {
  "language_info": {
   "codemirror_mode": {
    "name": "ipython",
    "version": 3
   },
   "file_extension": ".py",
   "mimetype": "text/x-python",
   "name": "python",
   "nbconvert_exporter": "python",
   "pygments_lexer": "ipython3",
   "version": "3.8.6-candidate"
  },
  "orig_nbformat": 2,
  "kernelspec": {
   "name": "Python 3.8.6 64-bit",
   "display_name": "Python 3.8.6 64-bit",
   "metadata": {
    "interpreter": {
     "hash": "2a80cafe02b4a68da2dc5344b52b71726d103bf40eaffc1fd8fc8f246e1d994a"
    }
   }
  }
 },
 "nbformat": 4,
 "nbformat_minor": 2,
 "cells": [
  {
   "cell_type": "code",
   "execution_count": 13,
   "metadata": {},
   "outputs": [],
   "source": [
    "from collections import deque\n",
    "\n",
    "class Solution:\n",
    "    def removeDuplicateLetters(self, s: str) -> str:\n",
    "        letters = [chr(ord('a')+i) for i in range(26)]\n",
    "        availSet = dict.fromkeys(letters, 0)\n",
    "        usedSet = dict.fromkeys(letters, False)\n",
    "        for ch in s:\n",
    "            availSet[ch]+=1\n",
    "        result = deque()\n",
    "        for i in range(len(s)):\n",
    "            while len(result) > 0 and s[i] < result[-1] and availSet[result[-1]] > 0 and usedSet[s[i]] == False:\n",
    "                usedSet[result[-1]] = False\n",
    "                result.pop()\n",
    "            if usedSet[s[i]] == False:\n",
    "                result.append(s[i])\n",
    "                usedSet[s[i]] = True\n",
    "            availSet[s[i]] -= 1\n",
    "        return ''.join(result)\n",
    "                \n",
    "\n",
    "solution = Solution()"
   ]
  },
  {
   "cell_type": "code",
   "execution_count": 14,
   "metadata": {},
   "outputs": [
    {
     "output_type": "execute_result",
     "data": {
      "text/plain": [
       "'abc'"
      ]
     },
     "metadata": {},
     "execution_count": 14
    }
   ],
   "source": [
    "s = 'bcabc'\n",
    "solution.removeDuplicateLetters(s)"
   ]
  },
  {
   "cell_type": "code",
   "execution_count": 15,
   "metadata": {},
   "outputs": [
    {
     "output_type": "execute_result",
     "data": {
      "text/plain": [
       "'acdb'"
      ]
     },
     "metadata": {},
     "execution_count": 15
    }
   ],
   "source": [
    "s = 'cbacdcbc'\n",
    "solution.removeDuplicateLetters(s)"
   ]
  }
 ]
}